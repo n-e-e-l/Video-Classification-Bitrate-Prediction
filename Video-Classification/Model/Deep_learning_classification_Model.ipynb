{
  "nbformat": 4,
  "nbformat_minor": 0,
  "metadata": {
    "colab": {
      "name": "Deep-learning-classification-Model",
      "provenance": [],
      "collapsed_sections": [],
      "machine_shape": "hm"
    },
    "kernelspec": {
      "display_name": "Python 3",
      "name": "python3"
    },
    "language_info": {
      "name": "python"
    }
  },
  "cells": [
    {
      "cell_type": "code",
      "metadata": {
        "colab": {
          "base_uri": "https://localhost:8080/"
        },
        "id": "bOv-BdHWqNw-",
        "outputId": "9548e395-d538-461b-974c-93e6151f4645"
      },
      "source": [
        "from google.colab import drive\n",
        "drive.mount('/content/drive')"
      ],
      "execution_count": 1,
      "outputs": [
        {
          "output_type": "stream",
          "name": "stdout",
          "text": [
            "Mounted at /content/drive\n"
          ]
        }
      ]
    },
    {
      "cell_type": "code",
      "metadata": {
        "id": "aUUFjga2iMwF"
      },
      "source": [
        "import pandas as pd\n",
        "import numpy as np\n",
        "np.random.seed(333)\n",
        "import joblib\n",
        "from sklearn.model_selection import StratifiedShuffleSplit\n",
        "from sklearn.preprocessing import StandardScaler\n",
        "\n",
        "from tensorflow.keras.models import Sequential\n",
        "from tensorflow.keras import regularizers\n",
        "from tensorflow import keras\n",
        "from tensorflow.keras.layers import (\n",
        "    Conv1D,\n",
        "    Dense,\n",
        "    Dropout,\n",
        "    Flatten,\n",
        "    MaxPooling1D\n",
        ")\n",
        "\n",
        "from tensorflow.keras.metrics import RootMeanSquaredError \n",
        "from tensorflow.keras import optimizers\n",
        "import matplotlib.pyplot as plt\n",
        "\n",
        "\n",
        "import matplotlib.pyplot as plt"
      ],
      "execution_count": 2,
      "outputs": []
    },
    {
      "cell_type": "code",
      "metadata": {
        "id": "aPwuY1c0DBQ5"
      },
      "source": [
        "import pandas as pd\n",
        "df_train = pd.read_csv(r\"drive/My Drive/classification_model/df_training.csv\")\n",
        "df_test = pd.read_csv(r\"drive/My Drive/classification_model/df_testing.csv\")\n",
        "df_validation = pd.read_csv(r\"drive/My Drive/classification_model/df_validation.csv\")"
      ],
      "execution_count": 3,
      "outputs": []
    },
    {
      "cell_type": "code",
      "metadata": {
        "id": "M69RArjnKkpf",
        "colab": {
          "base_uri": "https://localhost:8080/"
        },
        "outputId": "c9eadaa8-f02d-483d-88df-cbedeb1aed75"
      },
      "source": [
        "#pd.set_option('display.max_rows', 1000)\n",
        "df_train.isna().sum()"
      ],
      "execution_count": 4,
      "outputs": [
        {
          "output_type": "execute_result",
          "data": {
            "text/plain": [
              "Unnamed: 0        0\n",
              "filename          0\n",
              "time              0\n",
              "video_b           0\n",
              "video_g           0\n",
              "                 ..\n",
              "tonnetz_mean      0\n",
              "tonnetz_std       0\n",
              "tonnetz_median    0\n",
              "tonnetz_len       0\n",
              "label             0\n",
              "Length: 129, dtype: int64"
            ]
          },
          "metadata": {},
          "execution_count": 4
        }
      ]
    },
    {
      "cell_type": "code",
      "metadata": {
        "id": "T8lM9Xv5aSYb"
      },
      "source": [
        "df_validation.rename({'mfcc_sum_y': 'mfcc_sum'}, axis=1, inplace=True)  # new method\n",
        "df_validation.drop([\"mfcc_sum_x\"] , axis=1, inplace=True )     \n",
        "df_test.rename({'mfcc_sum_y': 'mfcc_sum'}, axis=1, inplace=True)  # new method\n",
        "df_test.drop([\"mfcc_sum_x\"] , axis=1, inplace=True )             \n",
        "#df.rename({'a': 'X', 'b': 'Y'}, axis=1, inplace=True)  # new method"
      ],
      "execution_count": 5,
      "outputs": []
    },
    {
      "cell_type": "code",
      "metadata": {
        "id": "a6svRCvCDZ5v"
      },
      "source": [
        "#df_validation\n",
        "df_train = df_train.iloc[: , 1:]\n",
        "df_test = df_test.iloc[: , 1:]\n",
        "df_validation = df_validation.iloc[: , 1:]"
      ],
      "execution_count": 6,
      "outputs": []
    },
    {
      "cell_type": "code",
      "metadata": {
        "id": "jDiOBBnj3pNM"
      },
      "source": [
        "df_train = df_train.iloc[: , 1:]\n",
        "df_test = df_test.iloc[: , 1:]\n",
        "df_validation = df_validation.iloc[: , 1:]"
      ],
      "execution_count": 7,
      "outputs": []
    },
    {
      "cell_type": "code",
      "metadata": {
        "id": "w-KDX-Wk3pTS"
      },
      "source": [
        "df_train.drop([\"chroma_stft\",\"spectral_contrast\"\t,\"zero\",\t\"chroma_cqt\",\t\"chroma_cens\",\t\"melspectrogram\",\t\"mfcc\",\t\"rms\"\t,\"spectral_centroid\",\t\"spectral_bandwidth\",\t\t\"spectral_flatness\",\t\"spectral_rolloff\",\t\"poly_features\",\t\"tonnetz\"], axis=1, inplace=True)\n",
        "df_test.drop([\"chroma_stft\",\"spectral_contrast\"\t,\"zero\",\t\"chroma_cqt\",\t\"chroma_cens\",\t\"melspectrogram\",\t\"mfcc\",\t\"rms\"\t,\"spectral_centroid\",\t\"spectral_bandwidth\",\t\t\"spectral_flatness\",\t\"spectral_rolloff\",\t\"poly_features\",\t\"tonnetz\"], axis=1, inplace=True)\n",
        "df_validation.drop([\"chroma_stft\",\"spectral_contrast\"\t,\"zero\",\t\"chroma_cqt\",\t\"chroma_cens\",\t\"melspectrogram\",\t\"mfcc\",\t\"rms\"\t,\"spectral_centroid\",\t\"spectral_bandwidth\",\t\t\"spectral_flatness\",\t\"spectral_rolloff\",\t\"poly_features\",\t\"tonnetz\"], axis=1, inplace=True)\n",
        "\n"
      ],
      "execution_count": 8,
      "outputs": []
    },
    {
      "cell_type": "code",
      "metadata": {
        "id": "wHmpQHVh4IfM"
      },
      "source": [
        "df_train[\"label\"].replace({\"animated\": 1, \"non-animated\": 0}, inplace=True)\n",
        "df_test[\"label\"].replace({\"animated\": 1, \"non-animated\": 0}, inplace=True)\n",
        "df_validation[\"label\"].replace({\"animated\": 1, \"non-animated\": 0}, inplace=True)\n"
      ],
      "execution_count": 9,
      "outputs": []
    },
    {
      "cell_type": "code",
      "metadata": {
        "id": "ZGsfQUhZ5Ecz"
      },
      "source": [
        "df_train.reset_index(inplace=True,drop=True)\n",
        "df_test.reset_index(inplace=True,drop=True)\n",
        "df_validation.reset_index(inplace=True,drop=True)"
      ],
      "execution_count": 10,
      "outputs": []
    },
    {
      "cell_type": "code",
      "metadata": {
        "id": "Ddbq7mWHV131"
      },
      "source": [
        "df_train.drop([\"chroma_cqt_max\", \"chroma_stft_max\",\"mfcc_sum\" ], axis=1, inplace=True)  \n",
        "df_test.drop([\"chroma_cqt_max\", \"chroma_stft_max\",\"mfcc_sum\" ], axis=1, inplace=True)  \n",
        "df_validation.drop([\"chroma_cqt_max\", \"chroma_stft_max\",\"mfcc_sum\" ], axis=1, inplace=True)  \n",
        "\n",
        "df_train.reset_index(inplace=True,drop=True)\n",
        "df_test.reset_index(inplace=True,drop=True)\n",
        "df_validation.reset_index(inplace=True,drop=True)"
      ],
      "execution_count": 11,
      "outputs": []
    },
    {
      "cell_type": "code",
      "metadata": {
        "colab": {
          "base_uri": "https://localhost:8080/"
        },
        "id": "YJ09-vkJEf12",
        "outputId": "3f488f0d-27cf-4184-eb85-342d0ac4d7d1"
      },
      "source": [
        "df_train.shape"
      ],
      "execution_count": 12,
      "outputs": [
        {
          "output_type": "execute_result",
          "data": {
            "text/plain": [
              "(999, 110)"
            ]
          },
          "metadata": {},
          "execution_count": 12
        }
      ]
    },
    {
      "cell_type": "code",
      "metadata": {
        "id": "Y2BMqGiK3DOe"
      },
      "source": [
        "labels=df_train['label']\n",
        "features = df_train.iloc[:,0:109]\n",
        "X_train=features\n",
        "y_train=np.ravel(labels)\n",
        "X_test = df_test.iloc[:,0:109]\n",
        "X_validation = df_validation.iloc[:,0:109]\n",
        "y_test=np.ravel(df_test['label'])\n",
        "y_val=np.ravel(df_validation['label'])\n"
      ],
      "execution_count": 13,
      "outputs": []
    },
    {
      "cell_type": "code",
      "metadata": {
        "colab": {
          "base_uri": "https://localhost:8080/"
        },
        "id": "Qe3V0cvsIjrI",
        "outputId": "f80364f2-b05c-4f8a-d453-003822657fa1"
      },
      "source": [
        "y_train"
      ],
      "execution_count": 14,
      "outputs": [
        {
          "output_type": "execute_result",
          "data": {
            "text/plain": [
              "array([1, 1, 1, 1, 1, 1, 1, 1, 1, 1, 1, 1, 1, 1, 1, 1, 1, 1, 1, 1, 1, 1,\n",
              "       1, 1, 1, 1, 1, 1, 1, 1, 1, 1, 1, 1, 1, 1, 1, 1, 1, 1, 1, 1, 1, 1,\n",
              "       1, 1, 1, 1, 1, 1, 1, 1, 1, 1, 1, 1, 1, 1, 1, 1, 1, 1, 1, 1, 1, 1,\n",
              "       1, 1, 1, 1, 1, 1, 1, 1, 1, 1, 1, 1, 1, 1, 1, 1, 1, 1, 1, 1, 1, 1,\n",
              "       1, 1, 1, 1, 1, 1, 1, 1, 1, 1, 1, 1, 1, 1, 1, 1, 1, 1, 1, 1, 1, 1,\n",
              "       1, 1, 1, 1, 1, 1, 1, 1, 1, 1, 1, 1, 1, 1, 1, 1, 1, 1, 1, 1, 1, 1,\n",
              "       1, 1, 1, 1, 1, 1, 1, 1, 1, 1, 1, 1, 1, 1, 1, 1, 1, 1, 1, 1, 1, 1,\n",
              "       1, 1, 1, 1, 1, 1, 1, 1, 1, 1, 1, 1, 1, 1, 1, 1, 1, 1, 1, 1, 1, 1,\n",
              "       1, 1, 1, 1, 1, 1, 1, 1, 1, 1, 1, 1, 1, 1, 1, 1, 1, 1, 1, 1, 1, 1,\n",
              "       1, 1, 1, 1, 1, 1, 1, 1, 1, 1, 1, 1, 1, 1, 1, 1, 1, 1, 1, 1, 1, 1,\n",
              "       1, 1, 1, 1, 1, 1, 1, 1, 1, 1, 1, 1, 1, 1, 1, 1, 1, 1, 1, 1, 1, 1,\n",
              "       1, 1, 1, 1, 1, 1, 1, 1, 1, 1, 1, 1, 1, 1, 1, 1, 1, 1, 1, 1, 1, 1,\n",
              "       1, 1, 1, 1, 1, 1, 1, 1, 1, 1, 1, 1, 1, 1, 1, 1, 1, 1, 1, 1, 1, 1,\n",
              "       1, 1, 1, 1, 1, 1, 1, 1, 1, 1, 1, 1, 1, 1, 1, 1, 1, 1, 1, 1, 1, 1,\n",
              "       1, 1, 1, 1, 1, 1, 1, 1, 1, 1, 1, 1, 1, 1, 1, 1, 1, 1, 1, 1, 1, 1,\n",
              "       1, 1, 1, 1, 1, 1, 1, 1, 1, 1, 1, 1, 1, 1, 1, 1, 1, 1, 1, 1, 1, 1,\n",
              "       1, 1, 1, 1, 1, 1, 1, 1, 1, 1, 1, 1, 1, 1, 1, 1, 1, 1, 1, 1, 1, 1,\n",
              "       1, 1, 1, 1, 1, 1, 1, 1, 1, 1, 1, 1, 1, 1, 1, 1, 1, 1, 1, 1, 1, 1,\n",
              "       1, 1, 1, 1, 1, 1, 1, 1, 1, 1, 1, 1, 1, 1, 1, 1, 1, 1, 1, 1, 1, 1,\n",
              "       1, 1, 1, 1, 1, 1, 1, 1, 1, 1, 1, 1, 1, 1, 1, 1, 1, 1, 1, 1, 1, 1,\n",
              "       1, 1, 1, 1, 1, 1, 1, 1, 1, 1, 1, 1, 1, 1, 1, 1, 1, 1, 1, 1, 1, 1,\n",
              "       1, 1, 1, 1, 1, 1, 1, 1, 1, 1, 1, 1, 1, 1, 1, 1, 1, 1, 1, 1, 1, 1,\n",
              "       1, 1, 1, 1, 1, 1, 1, 1, 1, 1, 1, 1, 1, 0, 0, 0, 0, 0, 0, 0, 0, 0,\n",
              "       0, 0, 0, 0, 0, 0, 0, 0, 0, 0, 0, 0, 0, 0, 0, 0, 0, 0, 0, 0, 0, 0,\n",
              "       0, 0, 0, 0, 0, 0, 0, 0, 0, 0, 0, 0, 0, 0, 0, 0, 0, 0, 0, 0, 0, 0,\n",
              "       0, 0, 0, 0, 0, 0, 0, 0, 0, 0, 0, 0, 0, 0, 0, 0, 0, 0, 0, 0, 0, 0,\n",
              "       0, 0, 0, 0, 0, 0, 0, 0, 0, 0, 0, 0, 0, 0, 0, 0, 0, 0, 0, 0, 0, 0,\n",
              "       0, 0, 0, 0, 0, 0, 0, 0, 0, 0, 0, 0, 0, 0, 0, 0, 0, 0, 0, 0, 0, 0,\n",
              "       0, 0, 0, 0, 0, 0, 0, 0, 0, 0, 0, 0, 0, 0, 0, 0, 0, 0, 0, 0, 0, 0,\n",
              "       0, 0, 0, 0, 0, 0, 0, 0, 0, 0, 0, 0, 0, 0, 0, 0, 0, 0, 0, 0, 0, 0,\n",
              "       0, 0, 0, 0, 0, 0, 0, 0, 0, 0, 0, 0, 0, 0, 0, 0, 0, 0, 0, 0, 0, 0,\n",
              "       0, 0, 0, 0, 0, 0, 0, 0, 0, 0, 0, 0, 0, 0, 0, 0, 0, 0, 0, 0, 0, 0,\n",
              "       0, 0, 0, 0, 0, 0, 0, 0, 0, 0, 0, 0, 0, 0, 0, 0, 0, 0, 0, 0, 0, 0,\n",
              "       0, 0, 0, 0, 0, 0, 0, 0, 0, 0, 0, 0, 0, 0, 0, 0, 0, 0, 0, 0, 0, 0,\n",
              "       0, 0, 0, 0, 0, 0, 0, 0, 0, 0, 0, 0, 0, 0, 0, 0, 0, 0, 0, 0, 0, 0,\n",
              "       0, 0, 0, 0, 0, 0, 0, 0, 0, 0, 0, 0, 0, 0, 0, 0, 0, 0, 0, 0, 0, 0,\n",
              "       0, 0, 0, 0, 0, 0, 0, 0, 0, 0, 0, 0, 0, 0, 0, 0, 0, 0, 0, 0, 0, 0,\n",
              "       0, 0, 0, 0, 0, 0, 0, 0, 0, 0, 0, 0, 0, 0, 0, 0, 0, 0, 0, 0, 0, 0,\n",
              "       0, 0, 0, 0, 0, 0, 0, 0, 0, 0, 0, 0, 0, 0, 0, 0, 0, 0, 0, 0, 0, 0,\n",
              "       0, 0, 0, 0, 0, 0, 0, 0, 0, 0, 0, 0, 0, 0, 0, 0, 0, 0, 0, 0, 0, 0,\n",
              "       0, 0, 0, 0, 0, 0, 0, 0, 0, 0, 0, 0, 0, 0, 0, 0, 0, 0, 0, 0, 0, 0,\n",
              "       0, 0, 0, 0, 0, 0, 0, 0, 0, 0, 0, 0, 0, 0, 0, 0, 0, 0, 0, 0, 0, 0,\n",
              "       0, 0, 0, 0, 0, 0, 0, 0, 0, 0, 0, 0, 0, 0, 0, 0, 0, 0, 0, 0, 0, 0,\n",
              "       0, 0, 0, 0, 0, 0, 0, 0, 0, 0, 0, 0, 0, 0, 0, 0, 0, 0, 0, 0, 0, 0,\n",
              "       0, 0, 0, 0, 0, 0, 0, 0, 0, 0, 0, 0, 0, 0, 0, 0, 0, 0, 0, 0, 0, 0,\n",
              "       0, 0, 0, 0, 0, 0, 0, 0, 0])"
            ]
          },
          "metadata": {},
          "execution_count": 14
        }
      ]
    },
    {
      "cell_type": "code",
      "metadata": {
        "id": "hrq3FBxl3hUi"
      },
      "source": [
        "from sklearn.preprocessing import StandardScaler\n",
        "\n",
        "scaler = StandardScaler().fit(X_train)\n",
        "\n",
        "X_train = scaler.transform(X_train)\n",
        "\n",
        "X_test = scaler.transform(X_test)  \n",
        "X_validation = scaler.transform(X_validation)"
      ],
      "execution_count": 15,
      "outputs": []
    },
    {
      "cell_type": "code",
      "metadata": {
        "id": "q0Y8_v3V6bQh"
      },
      "source": [
        "model_1 = Sequential([\n",
        "    Dense(109, activation='relu',input_shape=[(X_train.shape)[1]],kernel_regularizer=keras.regularizers.l2(l=0.001)),\n",
        "    #Dense(64,activation='relu',kernel_regularizer=keras.regularizers.l2(l=0.001)),\n",
        "    Dense(128,activation='relu'),\n",
        "    Dense(128,activation='relu'),\n",
        "    Dense(64,activation='relu'),\n",
        "    Dense(64,activation='relu'),\n",
        "    Dense(32,activation='relu'),\n",
        "    Dense(8,activation='relu'),\n",
        "    Dense(1,activation='sigmoid')\n",
        "\n",
        "  ])"
      ],
      "execution_count": 16,
      "outputs": []
    },
    {
      "cell_type": "code",
      "metadata": {
        "colab": {
          "base_uri": "https://localhost:8080/"
        },
        "id": "VNRpO_-g6lZD",
        "outputId": "5a552285-dc8d-4c11-b926-9628de6b71f3"
      },
      "source": [
        "model_1.summary()"
      ],
      "execution_count": 17,
      "outputs": [
        {
          "output_type": "stream",
          "name": "stdout",
          "text": [
            "Model: \"sequential\"\n",
            "_________________________________________________________________\n",
            "Layer (type)                 Output Shape              Param #   \n",
            "=================================================================\n",
            "dense (Dense)                (None, 109)               11990     \n",
            "_________________________________________________________________\n",
            "dense_1 (Dense)              (None, 128)               14080     \n",
            "_________________________________________________________________\n",
            "dense_2 (Dense)              (None, 128)               16512     \n",
            "_________________________________________________________________\n",
            "dense_3 (Dense)              (None, 64)                8256      \n",
            "_________________________________________________________________\n",
            "dense_4 (Dense)              (None, 64)                4160      \n",
            "_________________________________________________________________\n",
            "dense_5 (Dense)              (None, 32)                2080      \n",
            "_________________________________________________________________\n",
            "dense_6 (Dense)              (None, 8)                 264       \n",
            "_________________________________________________________________\n",
            "dense_7 (Dense)              (None, 1)                 9         \n",
            "=================================================================\n",
            "Total params: 57,351\n",
            "Trainable params: 57,351\n",
            "Non-trainable params: 0\n",
            "_________________________________________________________________\n"
          ]
        }
      ]
    },
    {
      "cell_type": "code",
      "metadata": {
        "id": "wiV2vis47-ju"
      },
      "source": [
        "model_1.compile(loss='binary_crossentropy',\n",
        "              optimizer='sgd',\n",
        "              metrics=['accuracy'])"
      ],
      "execution_count": 18,
      "outputs": []
    },
    {
      "cell_type": "code",
      "metadata": {
        "id": "CqNNeKQX8JZe"
      },
      "source": [
        "es_callback = keras.callbacks.EarlyStopping(monitor = 'val_loss',patience = 6,restore_best_weights = True,mode='min')\n",
        "                          \n",
        "                          \n",
        "                          \n",
        "                          "
      ],
      "execution_count": 20,
      "outputs": []
    },
    {
      "cell_type": "code",
      "metadata": {
        "colab": {
          "base_uri": "https://localhost:8080/",
          "height": 1000
        },
        "id": "7YrlRQDw8MnV",
        "outputId": "75cceaee-ce4d-4485-f271-1e13e8514ac7"
      },
      "source": [
        "import matplotlib.pyplot as plt\n",
        "\n",
        "history=model_1.fit(X_train,y_train,validation_data=(X_validation,y_val), epochs=500, batch_size=500, verbose=1,callbacks=[es_callback])\n",
        "\n",
        "plt.plot(history.history['accuracy'])\n",
        "plt.plot(history.history['val_accuracy'])\n",
        "plt.title('model accuracy')\n",
        "plt.ylabel('accuracy')\n",
        "plt.xlabel('epoch')\n",
        "plt.legend(['train', 'val'], loc='upper left')\n",
        "plt.show()\n",
        "# summarize history for loss\n",
        "plt.plot(history.history['loss'])\n",
        "plt.plot(history.history['val_loss'])\n",
        "plt.title('model loss')\n",
        "plt.ylabel('loss')\n",
        "plt.xlabel('epoch')\n",
        "plt.legend(['train', 'val'], loc='upper left')\n",
        "plt.show()"
      ],
      "execution_count": 21,
      "outputs": [
        {
          "output_type": "stream",
          "name": "stdout",
          "text": [
            "Epoch 1/500\n",
            "2/2 [==============================] - 1s 329ms/step - loss: 0.8091 - accuracy: 0.4705 - val_loss: 0.8111 - val_accuracy: 0.4596\n",
            "Epoch 2/500\n",
            "2/2 [==============================] - 0s 24ms/step - loss: 0.8073 - accuracy: 0.4715 - val_loss: 0.8091 - val_accuracy: 0.4697\n",
            "Epoch 3/500\n",
            "2/2 [==============================] - 0s 23ms/step - loss: 0.8056 - accuracy: 0.4775 - val_loss: 0.8071 - val_accuracy: 0.4697\n",
            "Epoch 4/500\n",
            "2/2 [==============================] - 0s 22ms/step - loss: 0.8039 - accuracy: 0.4825 - val_loss: 0.8052 - val_accuracy: 0.4747\n",
            "Epoch 5/500\n",
            "2/2 [==============================] - 0s 25ms/step - loss: 0.8024 - accuracy: 0.4915 - val_loss: 0.8033 - val_accuracy: 0.4848\n",
            "Epoch 6/500\n",
            "2/2 [==============================] - 0s 23ms/step - loss: 0.8008 - accuracy: 0.5025 - val_loss: 0.8015 - val_accuracy: 0.4899\n",
            "Epoch 7/500\n",
            "2/2 [==============================] - 0s 24ms/step - loss: 0.7993 - accuracy: 0.5055 - val_loss: 0.7997 - val_accuracy: 0.4949\n",
            "Epoch 8/500\n",
            "2/2 [==============================] - 0s 24ms/step - loss: 0.7979 - accuracy: 0.5185 - val_loss: 0.7980 - val_accuracy: 0.4949\n",
            "Epoch 9/500\n",
            "2/2 [==============================] - 0s 24ms/step - loss: 0.7965 - accuracy: 0.5235 - val_loss: 0.7963 - val_accuracy: 0.5051\n",
            "Epoch 10/500\n",
            "2/2 [==============================] - 0s 24ms/step - loss: 0.7951 - accuracy: 0.5285 - val_loss: 0.7947 - val_accuracy: 0.5000\n",
            "Epoch 11/500\n",
            "2/2 [==============================] - 0s 25ms/step - loss: 0.7938 - accuracy: 0.5355 - val_loss: 0.7931 - val_accuracy: 0.4949\n",
            "Epoch 12/500\n",
            "2/2 [==============================] - 0s 23ms/step - loss: 0.7925 - accuracy: 0.5395 - val_loss: 0.7915 - val_accuracy: 0.4949\n",
            "Epoch 13/500\n",
            "2/2 [==============================] - 0s 41ms/step - loss: 0.7911 - accuracy: 0.5425 - val_loss: 0.7900 - val_accuracy: 0.4949\n",
            "Epoch 14/500\n",
            "2/2 [==============================] - 0s 24ms/step - loss: 0.7898 - accuracy: 0.5475 - val_loss: 0.7885 - val_accuracy: 0.4949\n",
            "Epoch 15/500\n",
            "2/2 [==============================] - 0s 24ms/step - loss: 0.7885 - accuracy: 0.5485 - val_loss: 0.7870 - val_accuracy: 0.5051\n",
            "Epoch 16/500\n",
            "2/2 [==============================] - 0s 25ms/step - loss: 0.7872 - accuracy: 0.5556 - val_loss: 0.7855 - val_accuracy: 0.5051\n",
            "Epoch 17/500\n",
            "2/2 [==============================] - 0s 25ms/step - loss: 0.7859 - accuracy: 0.5596 - val_loss: 0.7840 - val_accuracy: 0.5000\n",
            "Epoch 18/500\n",
            "2/2 [==============================] - 0s 26ms/step - loss: 0.7846 - accuracy: 0.5646 - val_loss: 0.7826 - val_accuracy: 0.5000\n",
            "Epoch 19/500\n",
            "2/2 [==============================] - 0s 24ms/step - loss: 0.7832 - accuracy: 0.5666 - val_loss: 0.7811 - val_accuracy: 0.5000\n",
            "Epoch 20/500\n",
            "2/2 [==============================] - 0s 24ms/step - loss: 0.7818 - accuracy: 0.5676 - val_loss: 0.7796 - val_accuracy: 0.5051\n",
            "Epoch 21/500\n",
            "2/2 [==============================] - 0s 25ms/step - loss: 0.7804 - accuracy: 0.5706 - val_loss: 0.7781 - val_accuracy: 0.5051\n",
            "Epoch 22/500\n",
            "2/2 [==============================] - 0s 22ms/step - loss: 0.7790 - accuracy: 0.5716 - val_loss: 0.7766 - val_accuracy: 0.5051\n",
            "Epoch 23/500\n",
            "2/2 [==============================] - 0s 27ms/step - loss: 0.7776 - accuracy: 0.5756 - val_loss: 0.7752 - val_accuracy: 0.5051\n",
            "Epoch 24/500\n",
            "2/2 [==============================] - 0s 24ms/step - loss: 0.7762 - accuracy: 0.5766 - val_loss: 0.7737 - val_accuracy: 0.5051\n",
            "Epoch 25/500\n",
            "2/2 [==============================] - 0s 24ms/step - loss: 0.7747 - accuracy: 0.5776 - val_loss: 0.7723 - val_accuracy: 0.5051\n",
            "Epoch 26/500\n",
            "2/2 [==============================] - 0s 23ms/step - loss: 0.7732 - accuracy: 0.5806 - val_loss: 0.7708 - val_accuracy: 0.5051\n",
            "Epoch 27/500\n",
            "2/2 [==============================] - 0s 26ms/step - loss: 0.7717 - accuracy: 0.5866 - val_loss: 0.7693 - val_accuracy: 0.5101\n",
            "Epoch 28/500\n",
            "2/2 [==============================] - 0s 24ms/step - loss: 0.7701 - accuracy: 0.5856 - val_loss: 0.7678 - val_accuracy: 0.5101\n",
            "Epoch 29/500\n",
            "2/2 [==============================] - 0s 23ms/step - loss: 0.7685 - accuracy: 0.5896 - val_loss: 0.7663 - val_accuracy: 0.5101\n",
            "Epoch 30/500\n",
            "2/2 [==============================] - 0s 23ms/step - loss: 0.7669 - accuracy: 0.5926 - val_loss: 0.7648 - val_accuracy: 0.5152\n",
            "Epoch 31/500\n",
            "2/2 [==============================] - 0s 23ms/step - loss: 0.7653 - accuracy: 0.5956 - val_loss: 0.7632 - val_accuracy: 0.5202\n",
            "Epoch 32/500\n",
            "2/2 [==============================] - 0s 25ms/step - loss: 0.7636 - accuracy: 0.5996 - val_loss: 0.7617 - val_accuracy: 0.5253\n",
            "Epoch 33/500\n",
            "2/2 [==============================] - 0s 24ms/step - loss: 0.7619 - accuracy: 0.6006 - val_loss: 0.7601 - val_accuracy: 0.5303\n",
            "Epoch 34/500\n",
            "2/2 [==============================] - 0s 23ms/step - loss: 0.7601 - accuracy: 0.6076 - val_loss: 0.7585 - val_accuracy: 0.5404\n",
            "Epoch 35/500\n",
            "2/2 [==============================] - 0s 24ms/step - loss: 0.7582 - accuracy: 0.6106 - val_loss: 0.7569 - val_accuracy: 0.5404\n",
            "Epoch 36/500\n",
            "2/2 [==============================] - 0s 23ms/step - loss: 0.7564 - accuracy: 0.6126 - val_loss: 0.7553 - val_accuracy: 0.5404\n",
            "Epoch 37/500\n",
            "2/2 [==============================] - 0s 22ms/step - loss: 0.7545 - accuracy: 0.6186 - val_loss: 0.7537 - val_accuracy: 0.5455\n",
            "Epoch 38/500\n",
            "2/2 [==============================] - 0s 23ms/step - loss: 0.7526 - accuracy: 0.6226 - val_loss: 0.7521 - val_accuracy: 0.5505\n",
            "Epoch 39/500\n",
            "2/2 [==============================] - 0s 26ms/step - loss: 0.7506 - accuracy: 0.6326 - val_loss: 0.7504 - val_accuracy: 0.5505\n",
            "Epoch 40/500\n",
            "2/2 [==============================] - 0s 40ms/step - loss: 0.7485 - accuracy: 0.6326 - val_loss: 0.7488 - val_accuracy: 0.5606\n",
            "Epoch 41/500\n",
            "2/2 [==============================] - 0s 25ms/step - loss: 0.7464 - accuracy: 0.6386 - val_loss: 0.7470 - val_accuracy: 0.5606\n",
            "Epoch 42/500\n",
            "2/2 [==============================] - 0s 24ms/step - loss: 0.7442 - accuracy: 0.6446 - val_loss: 0.7453 - val_accuracy: 0.5606\n",
            "Epoch 43/500\n",
            "2/2 [==============================] - 0s 23ms/step - loss: 0.7420 - accuracy: 0.6527 - val_loss: 0.7436 - val_accuracy: 0.5657\n",
            "Epoch 44/500\n",
            "2/2 [==============================] - 0s 24ms/step - loss: 0.7398 - accuracy: 0.6537 - val_loss: 0.7419 - val_accuracy: 0.5758\n",
            "Epoch 45/500\n",
            "2/2 [==============================] - 0s 26ms/step - loss: 0.7376 - accuracy: 0.6617 - val_loss: 0.7401 - val_accuracy: 0.5808\n",
            "Epoch 46/500\n",
            "2/2 [==============================] - 0s 24ms/step - loss: 0.7353 - accuracy: 0.6667 - val_loss: 0.7383 - val_accuracy: 0.5808\n",
            "Epoch 47/500\n",
            "2/2 [==============================] - 0s 22ms/step - loss: 0.7330 - accuracy: 0.6727 - val_loss: 0.7365 - val_accuracy: 0.5808\n",
            "Epoch 48/500\n",
            "2/2 [==============================] - 0s 24ms/step - loss: 0.7306 - accuracy: 0.6827 - val_loss: 0.7347 - val_accuracy: 0.5808\n",
            "Epoch 49/500\n",
            "2/2 [==============================] - 0s 23ms/step - loss: 0.7282 - accuracy: 0.6877 - val_loss: 0.7329 - val_accuracy: 0.5808\n",
            "Epoch 50/500\n",
            "2/2 [==============================] - 0s 25ms/step - loss: 0.7258 - accuracy: 0.6907 - val_loss: 0.7310 - val_accuracy: 0.5859\n",
            "Epoch 51/500\n",
            "2/2 [==============================] - 0s 25ms/step - loss: 0.7234 - accuracy: 0.6967 - val_loss: 0.7292 - val_accuracy: 0.5859\n",
            "Epoch 52/500\n",
            "2/2 [==============================] - 0s 22ms/step - loss: 0.7208 - accuracy: 0.6987 - val_loss: 0.7274 - val_accuracy: 0.5859\n",
            "Epoch 53/500\n",
            "2/2 [==============================] - 0s 25ms/step - loss: 0.7183 - accuracy: 0.7017 - val_loss: 0.7257 - val_accuracy: 0.5909\n",
            "Epoch 54/500\n",
            "2/2 [==============================] - 0s 43ms/step - loss: 0.7158 - accuracy: 0.7057 - val_loss: 0.7239 - val_accuracy: 0.5960\n",
            "Epoch 55/500\n",
            "2/2 [==============================] - 0s 24ms/step - loss: 0.7133 - accuracy: 0.7127 - val_loss: 0.7222 - val_accuracy: 0.5960\n",
            "Epoch 56/500\n",
            "2/2 [==============================] - 0s 24ms/step - loss: 0.7106 - accuracy: 0.7167 - val_loss: 0.7205 - val_accuracy: 0.6111\n",
            "Epoch 57/500\n",
            "2/2 [==============================] - 0s 24ms/step - loss: 0.7081 - accuracy: 0.7167 - val_loss: 0.7187 - val_accuracy: 0.6111\n",
            "Epoch 58/500\n",
            "2/2 [==============================] - 0s 23ms/step - loss: 0.7054 - accuracy: 0.7227 - val_loss: 0.7170 - val_accuracy: 0.6111\n",
            "Epoch 59/500\n",
            "2/2 [==============================] - 0s 24ms/step - loss: 0.7029 - accuracy: 0.7327 - val_loss: 0.7153 - val_accuracy: 0.6162\n",
            "Epoch 60/500\n",
            "2/2 [==============================] - 0s 23ms/step - loss: 0.7001 - accuracy: 0.7307 - val_loss: 0.7136 - val_accuracy: 0.6162\n",
            "Epoch 61/500\n",
            "2/2 [==============================] - 0s 22ms/step - loss: 0.6975 - accuracy: 0.7317 - val_loss: 0.7118 - val_accuracy: 0.6212\n",
            "Epoch 62/500\n",
            "2/2 [==============================] - 0s 22ms/step - loss: 0.6948 - accuracy: 0.7357 - val_loss: 0.7100 - val_accuracy: 0.6313\n",
            "Epoch 63/500\n",
            "2/2 [==============================] - 0s 24ms/step - loss: 0.6921 - accuracy: 0.7377 - val_loss: 0.7082 - val_accuracy: 0.6364\n",
            "Epoch 64/500\n",
            "2/2 [==============================] - 0s 25ms/step - loss: 0.6893 - accuracy: 0.7487 - val_loss: 0.7065 - val_accuracy: 0.6465\n",
            "Epoch 65/500\n",
            "2/2 [==============================] - 0s 23ms/step - loss: 0.6865 - accuracy: 0.7487 - val_loss: 0.7048 - val_accuracy: 0.6566\n",
            "Epoch 66/500\n",
            "2/2 [==============================] - 0s 27ms/step - loss: 0.6837 - accuracy: 0.7528 - val_loss: 0.7031 - val_accuracy: 0.6616\n",
            "Epoch 67/500\n",
            "2/2 [==============================] - 0s 23ms/step - loss: 0.6809 - accuracy: 0.7598 - val_loss: 0.7014 - val_accuracy: 0.6667\n",
            "Epoch 68/500\n",
            "2/2 [==============================] - 0s 25ms/step - loss: 0.6780 - accuracy: 0.7678 - val_loss: 0.6997 - val_accuracy: 0.6768\n",
            "Epoch 69/500\n",
            "2/2 [==============================] - 0s 24ms/step - loss: 0.6752 - accuracy: 0.7718 - val_loss: 0.6979 - val_accuracy: 0.6818\n",
            "Epoch 70/500\n",
            "2/2 [==============================] - 0s 28ms/step - loss: 0.6723 - accuracy: 0.7738 - val_loss: 0.6960 - val_accuracy: 0.6970\n",
            "Epoch 71/500\n",
            "2/2 [==============================] - 0s 24ms/step - loss: 0.6695 - accuracy: 0.7768 - val_loss: 0.6942 - val_accuracy: 0.7071\n",
            "Epoch 72/500\n",
            "2/2 [==============================] - 0s 24ms/step - loss: 0.6666 - accuracy: 0.7818 - val_loss: 0.6922 - val_accuracy: 0.7121\n",
            "Epoch 73/500\n",
            "2/2 [==============================] - 0s 23ms/step - loss: 0.6637 - accuracy: 0.7858 - val_loss: 0.6904 - val_accuracy: 0.7121\n",
            "Epoch 74/500\n",
            "2/2 [==============================] - 0s 26ms/step - loss: 0.6607 - accuracy: 0.7868 - val_loss: 0.6884 - val_accuracy: 0.7273\n",
            "Epoch 75/500\n",
            "2/2 [==============================] - 0s 26ms/step - loss: 0.6576 - accuracy: 0.7898 - val_loss: 0.6864 - val_accuracy: 0.7273\n",
            "Epoch 76/500\n",
            "2/2 [==============================] - 0s 27ms/step - loss: 0.6544 - accuracy: 0.7918 - val_loss: 0.6843 - val_accuracy: 0.7323\n",
            "Epoch 77/500\n",
            "2/2 [==============================] - 0s 23ms/step - loss: 0.6512 - accuracy: 0.7958 - val_loss: 0.6820 - val_accuracy: 0.7374\n",
            "Epoch 78/500\n",
            "2/2 [==============================] - 0s 22ms/step - loss: 0.6479 - accuracy: 0.8028 - val_loss: 0.6797 - val_accuracy: 0.7374\n",
            "Epoch 79/500\n",
            "2/2 [==============================] - 0s 22ms/step - loss: 0.6445 - accuracy: 0.8048 - val_loss: 0.6773 - val_accuracy: 0.7374\n",
            "Epoch 80/500\n",
            "2/2 [==============================] - 0s 23ms/step - loss: 0.6410 - accuracy: 0.8108 - val_loss: 0.6750 - val_accuracy: 0.7424\n",
            "Epoch 81/500\n",
            "2/2 [==============================] - 0s 23ms/step - loss: 0.6373 - accuracy: 0.8178 - val_loss: 0.6725 - val_accuracy: 0.7475\n",
            "Epoch 82/500\n",
            "2/2 [==============================] - 0s 23ms/step - loss: 0.6335 - accuracy: 0.8208 - val_loss: 0.6699 - val_accuracy: 0.7525\n",
            "Epoch 83/500\n",
            "2/2 [==============================] - 0s 26ms/step - loss: 0.6296 - accuracy: 0.8208 - val_loss: 0.6672 - val_accuracy: 0.7525\n",
            "Epoch 84/500\n",
            "2/2 [==============================] - 0s 24ms/step - loss: 0.6257 - accuracy: 0.8268 - val_loss: 0.6645 - val_accuracy: 0.7525\n",
            "Epoch 85/500\n",
            "2/2 [==============================] - 0s 23ms/step - loss: 0.6217 - accuracy: 0.8308 - val_loss: 0.6617 - val_accuracy: 0.7576\n",
            "Epoch 86/500\n",
            "2/2 [==============================] - 0s 25ms/step - loss: 0.6177 - accuracy: 0.8348 - val_loss: 0.6590 - val_accuracy: 0.7778\n",
            "Epoch 87/500\n",
            "2/2 [==============================] - 0s 24ms/step - loss: 0.6135 - accuracy: 0.8368 - val_loss: 0.6561 - val_accuracy: 0.7778\n",
            "Epoch 88/500\n",
            "2/2 [==============================] - 0s 24ms/step - loss: 0.6093 - accuracy: 0.8438 - val_loss: 0.6535 - val_accuracy: 0.7879\n",
            "Epoch 89/500\n",
            "2/2 [==============================] - 0s 22ms/step - loss: 0.6051 - accuracy: 0.8478 - val_loss: 0.6506 - val_accuracy: 0.7929\n",
            "Epoch 90/500\n",
            "2/2 [==============================] - 0s 23ms/step - loss: 0.6009 - accuracy: 0.8519 - val_loss: 0.6479 - val_accuracy: 0.7980\n",
            "Epoch 91/500\n",
            "2/2 [==============================] - 0s 23ms/step - loss: 0.5966 - accuracy: 0.8519 - val_loss: 0.6452 - val_accuracy: 0.8030\n",
            "Epoch 92/500\n",
            "2/2 [==============================] - 0s 25ms/step - loss: 0.5924 - accuracy: 0.8529 - val_loss: 0.6424 - val_accuracy: 0.8131\n",
            "Epoch 93/500\n",
            "2/2 [==============================] - 0s 24ms/step - loss: 0.5881 - accuracy: 0.8549 - val_loss: 0.6396 - val_accuracy: 0.8131\n",
            "Epoch 94/500\n",
            "2/2 [==============================] - 0s 25ms/step - loss: 0.5838 - accuracy: 0.8559 - val_loss: 0.6367 - val_accuracy: 0.8131\n",
            "Epoch 95/500\n",
            "2/2 [==============================] - 0s 23ms/step - loss: 0.5796 - accuracy: 0.8619 - val_loss: 0.6337 - val_accuracy: 0.8081\n",
            "Epoch 96/500\n",
            "2/2 [==============================] - 0s 24ms/step - loss: 0.5750 - accuracy: 0.8609 - val_loss: 0.6308 - val_accuracy: 0.8182\n",
            "Epoch 97/500\n",
            "2/2 [==============================] - 0s 25ms/step - loss: 0.5705 - accuracy: 0.8649 - val_loss: 0.6278 - val_accuracy: 0.8232\n",
            "Epoch 98/500\n",
            "2/2 [==============================] - 0s 24ms/step - loss: 0.5660 - accuracy: 0.8669 - val_loss: 0.6250 - val_accuracy: 0.8232\n",
            "Epoch 99/500\n",
            "2/2 [==============================] - 0s 25ms/step - loss: 0.5615 - accuracy: 0.8699 - val_loss: 0.6222 - val_accuracy: 0.8232\n",
            "Epoch 100/500\n",
            "2/2 [==============================] - 0s 28ms/step - loss: 0.5567 - accuracy: 0.8709 - val_loss: 0.6188 - val_accuracy: 0.8333\n",
            "Epoch 101/500\n",
            "2/2 [==============================] - 0s 25ms/step - loss: 0.5521 - accuracy: 0.8719 - val_loss: 0.6156 - val_accuracy: 0.8333\n",
            "Epoch 102/500\n",
            "2/2 [==============================] - 0s 24ms/step - loss: 0.5473 - accuracy: 0.8769 - val_loss: 0.6124 - val_accuracy: 0.8333\n",
            "Epoch 103/500\n",
            "2/2 [==============================] - 0s 23ms/step - loss: 0.5425 - accuracy: 0.8779 - val_loss: 0.6091 - val_accuracy: 0.8333\n",
            "Epoch 104/500\n",
            "2/2 [==============================] - 0s 23ms/step - loss: 0.5377 - accuracy: 0.8799 - val_loss: 0.6059 - val_accuracy: 0.8434\n",
            "Epoch 105/500\n",
            "2/2 [==============================] - 0s 24ms/step - loss: 0.5329 - accuracy: 0.8799 - val_loss: 0.6021 - val_accuracy: 0.8434\n",
            "Epoch 106/500\n",
            "2/2 [==============================] - 0s 25ms/step - loss: 0.5278 - accuracy: 0.8849 - val_loss: 0.5985 - val_accuracy: 0.8434\n",
            "Epoch 107/500\n",
            "2/2 [==============================] - 0s 23ms/step - loss: 0.5228 - accuracy: 0.8849 - val_loss: 0.5949 - val_accuracy: 0.8434\n",
            "Epoch 108/500\n",
            "2/2 [==============================] - 0s 26ms/step - loss: 0.5177 - accuracy: 0.8859 - val_loss: 0.5914 - val_accuracy: 0.8535\n",
            "Epoch 109/500\n",
            "2/2 [==============================] - 0s 24ms/step - loss: 0.5129 - accuracy: 0.8859 - val_loss: 0.5875 - val_accuracy: 0.8535\n",
            "Epoch 110/500\n",
            "2/2 [==============================] - 0s 24ms/step - loss: 0.5076 - accuracy: 0.8869 - val_loss: 0.5838 - val_accuracy: 0.8535\n",
            "Epoch 111/500\n",
            "2/2 [==============================] - 0s 22ms/step - loss: 0.5025 - accuracy: 0.8879 - val_loss: 0.5801 - val_accuracy: 0.8535\n",
            "Epoch 112/500\n",
            "2/2 [==============================] - 0s 24ms/step - loss: 0.4973 - accuracy: 0.8919 - val_loss: 0.5763 - val_accuracy: 0.8535\n",
            "Epoch 113/500\n",
            "2/2 [==============================] - 0s 25ms/step - loss: 0.4922 - accuracy: 0.8949 - val_loss: 0.5727 - val_accuracy: 0.8586\n",
            "Epoch 114/500\n",
            "2/2 [==============================] - 0s 25ms/step - loss: 0.4871 - accuracy: 0.8979 - val_loss: 0.5690 - val_accuracy: 0.8586\n",
            "Epoch 115/500\n",
            "2/2 [==============================] - 0s 24ms/step - loss: 0.4821 - accuracy: 0.8989 - val_loss: 0.5648 - val_accuracy: 0.8636\n",
            "Epoch 116/500\n",
            "2/2 [==============================] - 0s 24ms/step - loss: 0.4769 - accuracy: 0.9009 - val_loss: 0.5611 - val_accuracy: 0.8636\n",
            "Epoch 117/500\n",
            "2/2 [==============================] - 0s 24ms/step - loss: 0.4720 - accuracy: 0.9019 - val_loss: 0.5571 - val_accuracy: 0.8636\n",
            "Epoch 118/500\n",
            "2/2 [==============================] - 0s 26ms/step - loss: 0.4669 - accuracy: 0.9049 - val_loss: 0.5535 - val_accuracy: 0.8636\n",
            "Epoch 119/500\n",
            "2/2 [==============================] - 0s 25ms/step - loss: 0.4619 - accuracy: 0.9049 - val_loss: 0.5499 - val_accuracy: 0.8636\n",
            "Epoch 120/500\n",
            "2/2 [==============================] - 0s 24ms/step - loss: 0.4572 - accuracy: 0.9039 - val_loss: 0.5461 - val_accuracy: 0.8687\n",
            "Epoch 121/500\n",
            "2/2 [==============================] - 0s 26ms/step - loss: 0.4523 - accuracy: 0.9069 - val_loss: 0.5429 - val_accuracy: 0.8737\n",
            "Epoch 122/500\n",
            "2/2 [==============================] - 0s 26ms/step - loss: 0.4476 - accuracy: 0.9079 - val_loss: 0.5396 - val_accuracy: 0.8737\n",
            "Epoch 123/500\n",
            "2/2 [==============================] - 0s 23ms/step - loss: 0.4429 - accuracy: 0.9089 - val_loss: 0.5361 - val_accuracy: 0.8737\n",
            "Epoch 124/500\n",
            "2/2 [==============================] - 0s 23ms/step - loss: 0.4386 - accuracy: 0.9109 - val_loss: 0.5321 - val_accuracy: 0.8737\n",
            "Epoch 125/500\n",
            "2/2 [==============================] - 0s 26ms/step - loss: 0.4337 - accuracy: 0.9109 - val_loss: 0.5289 - val_accuracy: 0.8737\n",
            "Epoch 126/500\n",
            "2/2 [==============================] - 0s 27ms/step - loss: 0.4293 - accuracy: 0.9139 - val_loss: 0.5259 - val_accuracy: 0.8737\n",
            "Epoch 127/500\n",
            "2/2 [==============================] - 0s 24ms/step - loss: 0.4252 - accuracy: 0.9169 - val_loss: 0.5232 - val_accuracy: 0.8788\n",
            "Epoch 128/500\n",
            "2/2 [==============================] - 0s 22ms/step - loss: 0.4205 - accuracy: 0.9169 - val_loss: 0.5199 - val_accuracy: 0.8788\n",
            "Epoch 129/500\n",
            "2/2 [==============================] - 0s 25ms/step - loss: 0.4161 - accuracy: 0.9169 - val_loss: 0.5166 - val_accuracy: 0.8838\n",
            "Epoch 130/500\n",
            "2/2 [==============================] - 0s 25ms/step - loss: 0.4120 - accuracy: 0.9179 - val_loss: 0.5137 - val_accuracy: 0.8889\n",
            "Epoch 131/500\n",
            "2/2 [==============================] - 0s 24ms/step - loss: 0.4079 - accuracy: 0.9199 - val_loss: 0.5097 - val_accuracy: 0.8889\n",
            "Epoch 132/500\n",
            "2/2 [==============================] - 0s 24ms/step - loss: 0.4036 - accuracy: 0.9189 - val_loss: 0.5066 - val_accuracy: 0.8889\n",
            "Epoch 133/500\n",
            "2/2 [==============================] - 0s 24ms/step - loss: 0.3996 - accuracy: 0.9189 - val_loss: 0.5034 - val_accuracy: 0.8889\n",
            "Epoch 134/500\n",
            "2/2 [==============================] - 0s 25ms/step - loss: 0.3956 - accuracy: 0.9199 - val_loss: 0.5007 - val_accuracy: 0.8838\n",
            "Epoch 135/500\n",
            "2/2 [==============================] - 0s 23ms/step - loss: 0.3918 - accuracy: 0.9219 - val_loss: 0.4984 - val_accuracy: 0.8838\n",
            "Epoch 136/500\n",
            "2/2 [==============================] - 0s 24ms/step - loss: 0.3878 - accuracy: 0.9209 - val_loss: 0.4952 - val_accuracy: 0.8838\n",
            "Epoch 137/500\n",
            "2/2 [==============================] - 0s 23ms/step - loss: 0.3841 - accuracy: 0.9229 - val_loss: 0.4926 - val_accuracy: 0.8838\n",
            "Epoch 138/500\n",
            "2/2 [==============================] - 0s 24ms/step - loss: 0.3806 - accuracy: 0.9239 - val_loss: 0.4901 - val_accuracy: 0.8838\n",
            "Epoch 139/500\n",
            "2/2 [==============================] - 0s 25ms/step - loss: 0.3771 - accuracy: 0.9249 - val_loss: 0.4863 - val_accuracy: 0.8889\n",
            "Epoch 140/500\n",
            "2/2 [==============================] - 0s 25ms/step - loss: 0.3733 - accuracy: 0.9259 - val_loss: 0.4844 - val_accuracy: 0.8889\n",
            "Epoch 141/500\n",
            "2/2 [==============================] - 0s 25ms/step - loss: 0.3700 - accuracy: 0.9279 - val_loss: 0.4825 - val_accuracy: 0.8889\n",
            "Epoch 142/500\n",
            "2/2 [==============================] - 0s 24ms/step - loss: 0.3663 - accuracy: 0.9279 - val_loss: 0.4791 - val_accuracy: 0.8889\n",
            "Epoch 143/500\n",
            "2/2 [==============================] - 0s 24ms/step - loss: 0.3630 - accuracy: 0.9299 - val_loss: 0.4759 - val_accuracy: 0.8889\n",
            "Epoch 144/500\n",
            "2/2 [==============================] - 0s 24ms/step - loss: 0.3596 - accuracy: 0.9309 - val_loss: 0.4732 - val_accuracy: 0.8889\n",
            "Epoch 145/500\n",
            "2/2 [==============================] - 0s 23ms/step - loss: 0.3563 - accuracy: 0.9329 - val_loss: 0.4707 - val_accuracy: 0.8939\n",
            "Epoch 146/500\n",
            "2/2 [==============================] - 0s 25ms/step - loss: 0.3532 - accuracy: 0.9329 - val_loss: 0.4685 - val_accuracy: 0.8939\n",
            "Epoch 147/500\n",
            "2/2 [==============================] - 0s 23ms/step - loss: 0.3499 - accuracy: 0.9329 - val_loss: 0.4661 - val_accuracy: 0.8990\n",
            "Epoch 148/500\n",
            "2/2 [==============================] - 0s 23ms/step - loss: 0.3472 - accuracy: 0.9339 - val_loss: 0.4628 - val_accuracy: 0.8990\n",
            "Epoch 149/500\n",
            "2/2 [==============================] - 0s 29ms/step - loss: 0.3439 - accuracy: 0.9329 - val_loss: 0.4613 - val_accuracy: 0.8990\n",
            "Epoch 150/500\n",
            "2/2 [==============================] - 0s 23ms/step - loss: 0.3408 - accuracy: 0.9319 - val_loss: 0.4594 - val_accuracy: 0.8990\n",
            "Epoch 151/500\n",
            "2/2 [==============================] - 0s 24ms/step - loss: 0.3379 - accuracy: 0.9349 - val_loss: 0.4571 - val_accuracy: 0.8990\n",
            "Epoch 152/500\n",
            "2/2 [==============================] - 0s 24ms/step - loss: 0.3351 - accuracy: 0.9369 - val_loss: 0.4547 - val_accuracy: 0.8990\n",
            "Epoch 153/500\n",
            "2/2 [==============================] - 0s 26ms/step - loss: 0.3323 - accuracy: 0.9379 - val_loss: 0.4520 - val_accuracy: 0.9091\n",
            "Epoch 154/500\n",
            "2/2 [==============================] - 0s 25ms/step - loss: 0.3296 - accuracy: 0.9379 - val_loss: 0.4493 - val_accuracy: 0.9091\n",
            "Epoch 155/500\n",
            "2/2 [==============================] - 0s 25ms/step - loss: 0.3270 - accuracy: 0.9389 - val_loss: 0.4472 - val_accuracy: 0.9091\n",
            "Epoch 156/500\n",
            "2/2 [==============================] - 0s 26ms/step - loss: 0.3241 - accuracy: 0.9389 - val_loss: 0.4452 - val_accuracy: 0.9141\n",
            "Epoch 157/500\n",
            "2/2 [==============================] - 0s 26ms/step - loss: 0.3219 - accuracy: 0.9369 - val_loss: 0.4441 - val_accuracy: 0.9141\n",
            "Epoch 158/500\n",
            "2/2 [==============================] - 0s 25ms/step - loss: 0.3191 - accuracy: 0.9379 - val_loss: 0.4406 - val_accuracy: 0.9141\n",
            "Epoch 159/500\n",
            "2/2 [==============================] - 0s 24ms/step - loss: 0.3164 - accuracy: 0.9389 - val_loss: 0.4381 - val_accuracy: 0.9141\n",
            "Epoch 160/500\n",
            "2/2 [==============================] - 0s 24ms/step - loss: 0.3139 - accuracy: 0.9379 - val_loss: 0.4359 - val_accuracy: 0.9141\n",
            "Epoch 161/500\n",
            "2/2 [==============================] - 0s 24ms/step - loss: 0.3114 - accuracy: 0.9389 - val_loss: 0.4337 - val_accuracy: 0.9141\n",
            "Epoch 162/500\n",
            "2/2 [==============================] - 0s 24ms/step - loss: 0.3088 - accuracy: 0.9409 - val_loss: 0.4320 - val_accuracy: 0.9141\n",
            "Epoch 163/500\n",
            "2/2 [==============================] - 0s 23ms/step - loss: 0.3075 - accuracy: 0.9369 - val_loss: 0.4286 - val_accuracy: 0.9141\n",
            "Epoch 164/500\n",
            "2/2 [==============================] - 0s 41ms/step - loss: 0.3043 - accuracy: 0.9419 - val_loss: 0.4280 - val_accuracy: 0.9141\n",
            "Epoch 165/500\n",
            "2/2 [==============================] - 0s 25ms/step - loss: 0.3021 - accuracy: 0.9409 - val_loss: 0.4251 - val_accuracy: 0.9141\n",
            "Epoch 166/500\n",
            "2/2 [==============================] - 0s 25ms/step - loss: 0.2999 - accuracy: 0.9429 - val_loss: 0.4229 - val_accuracy: 0.9141\n",
            "Epoch 167/500\n",
            "2/2 [==============================] - 0s 24ms/step - loss: 0.2977 - accuracy: 0.9429 - val_loss: 0.4225 - val_accuracy: 0.9141\n",
            "Epoch 168/500\n",
            "2/2 [==============================] - 0s 24ms/step - loss: 0.2951 - accuracy: 0.9409 - val_loss: 0.4198 - val_accuracy: 0.9141\n",
            "Epoch 169/500\n",
            "2/2 [==============================] - 0s 24ms/step - loss: 0.2938 - accuracy: 0.9429 - val_loss: 0.4197 - val_accuracy: 0.9141\n",
            "Epoch 170/500\n",
            "2/2 [==============================] - 0s 24ms/step - loss: 0.2908 - accuracy: 0.9449 - val_loss: 0.4167 - val_accuracy: 0.9141\n",
            "Epoch 171/500\n",
            "2/2 [==============================] - 0s 27ms/step - loss: 0.2889 - accuracy: 0.9469 - val_loss: 0.4156 - val_accuracy: 0.9141\n",
            "Epoch 172/500\n",
            "2/2 [==============================] - 0s 24ms/step - loss: 0.2867 - accuracy: 0.9449 - val_loss: 0.4132 - val_accuracy: 0.9192\n",
            "Epoch 173/500\n",
            "2/2 [==============================] - 0s 24ms/step - loss: 0.2852 - accuracy: 0.9469 - val_loss: 0.4097 - val_accuracy: 0.9141\n",
            "Epoch 174/500\n",
            "2/2 [==============================] - 0s 25ms/step - loss: 0.2825 - accuracy: 0.9489 - val_loss: 0.4090 - val_accuracy: 0.9141\n",
            "Epoch 175/500\n",
            "2/2 [==============================] - 0s 27ms/step - loss: 0.2811 - accuracy: 0.9469 - val_loss: 0.4057 - val_accuracy: 0.9192\n",
            "Epoch 176/500\n",
            "2/2 [==============================] - 0s 27ms/step - loss: 0.2789 - accuracy: 0.9499 - val_loss: 0.4061 - val_accuracy: 0.9192\n",
            "Epoch 177/500\n",
            "2/2 [==============================] - 0s 25ms/step - loss: 0.2767 - accuracy: 0.9489 - val_loss: 0.4043 - val_accuracy: 0.9192\n",
            "Epoch 178/500\n",
            "2/2 [==============================] - 0s 26ms/step - loss: 0.2746 - accuracy: 0.9499 - val_loss: 0.4020 - val_accuracy: 0.9192\n",
            "Epoch 179/500\n",
            "2/2 [==============================] - 0s 25ms/step - loss: 0.2729 - accuracy: 0.9510 - val_loss: 0.4012 - val_accuracy: 0.9192\n",
            "Epoch 180/500\n",
            "2/2 [==============================] - 0s 41ms/step - loss: 0.2709 - accuracy: 0.9499 - val_loss: 0.3988 - val_accuracy: 0.9192\n",
            "Epoch 181/500\n",
            "2/2 [==============================] - 0s 24ms/step - loss: 0.2691 - accuracy: 0.9520 - val_loss: 0.3978 - val_accuracy: 0.9192\n",
            "Epoch 182/500\n",
            "2/2 [==============================] - 0s 24ms/step - loss: 0.2679 - accuracy: 0.9510 - val_loss: 0.3973 - val_accuracy: 0.9242\n",
            "Epoch 183/500\n",
            "2/2 [==============================] - 0s 27ms/step - loss: 0.2655 - accuracy: 0.9520 - val_loss: 0.3953 - val_accuracy: 0.9242\n",
            "Epoch 184/500\n",
            "2/2 [==============================] - 0s 24ms/step - loss: 0.2637 - accuracy: 0.9530 - val_loss: 0.3935 - val_accuracy: 0.9242\n",
            "Epoch 185/500\n",
            "2/2 [==============================] - 0s 29ms/step - loss: 0.2620 - accuracy: 0.9530 - val_loss: 0.3912 - val_accuracy: 0.9242\n",
            "Epoch 186/500\n",
            "2/2 [==============================] - 0s 25ms/step - loss: 0.2603 - accuracy: 0.9540 - val_loss: 0.3901 - val_accuracy: 0.9242\n",
            "Epoch 187/500\n",
            "2/2 [==============================] - 0s 24ms/step - loss: 0.2585 - accuracy: 0.9540 - val_loss: 0.3883 - val_accuracy: 0.9242\n",
            "Epoch 188/500\n",
            "2/2 [==============================] - 0s 26ms/step - loss: 0.2568 - accuracy: 0.9540 - val_loss: 0.3873 - val_accuracy: 0.9242\n",
            "Epoch 189/500\n",
            "2/2 [==============================] - 0s 25ms/step - loss: 0.2560 - accuracy: 0.9530 - val_loss: 0.3844 - val_accuracy: 0.9242\n",
            "Epoch 190/500\n",
            "2/2 [==============================] - 0s 23ms/step - loss: 0.2537 - accuracy: 0.9560 - val_loss: 0.3850 - val_accuracy: 0.9242\n",
            "Epoch 191/500\n",
            "2/2 [==============================] - 0s 23ms/step - loss: 0.2521 - accuracy: 0.9560 - val_loss: 0.3824 - val_accuracy: 0.9242\n",
            "Epoch 192/500\n",
            "2/2 [==============================] - 0s 24ms/step - loss: 0.2503 - accuracy: 0.9580 - val_loss: 0.3823 - val_accuracy: 0.9242\n",
            "Epoch 193/500\n",
            "2/2 [==============================] - 0s 24ms/step - loss: 0.2490 - accuracy: 0.9590 - val_loss: 0.3815 - val_accuracy: 0.9242\n",
            "Epoch 194/500\n",
            "2/2 [==============================] - 0s 23ms/step - loss: 0.2475 - accuracy: 0.9600 - val_loss: 0.3803 - val_accuracy: 0.9242\n",
            "Epoch 195/500\n",
            "2/2 [==============================] - 0s 24ms/step - loss: 0.2456 - accuracy: 0.9600 - val_loss: 0.3784 - val_accuracy: 0.9242\n",
            "Epoch 196/500\n",
            "2/2 [==============================] - 0s 25ms/step - loss: 0.2443 - accuracy: 0.9600 - val_loss: 0.3779 - val_accuracy: 0.9242\n",
            "Epoch 197/500\n",
            "2/2 [==============================] - 0s 26ms/step - loss: 0.2427 - accuracy: 0.9600 - val_loss: 0.3766 - val_accuracy: 0.9242\n",
            "Epoch 198/500\n",
            "2/2 [==============================] - 0s 23ms/step - loss: 0.2412 - accuracy: 0.9620 - val_loss: 0.3751 - val_accuracy: 0.9293\n",
            "Epoch 199/500\n",
            "2/2 [==============================] - 0s 23ms/step - loss: 0.2410 - accuracy: 0.9590 - val_loss: 0.3758 - val_accuracy: 0.9293\n",
            "Epoch 200/500\n",
            "2/2 [==============================] - 0s 26ms/step - loss: 0.2388 - accuracy: 0.9640 - val_loss: 0.3740 - val_accuracy: 0.9293\n",
            "Epoch 201/500\n",
            "2/2 [==============================] - 0s 26ms/step - loss: 0.2377 - accuracy: 0.9590 - val_loss: 0.3729 - val_accuracy: 0.9293\n",
            "Epoch 202/500\n",
            "2/2 [==============================] - 0s 25ms/step - loss: 0.2355 - accuracy: 0.9630 - val_loss: 0.3701 - val_accuracy: 0.9343\n",
            "Epoch 203/500\n",
            "2/2 [==============================] - 0s 26ms/step - loss: 0.2342 - accuracy: 0.9640 - val_loss: 0.3684 - val_accuracy: 0.9343\n",
            "Epoch 204/500\n",
            "2/2 [==============================] - 0s 25ms/step - loss: 0.2327 - accuracy: 0.9630 - val_loss: 0.3685 - val_accuracy: 0.9343\n",
            "Epoch 205/500\n",
            "2/2 [==============================] - 0s 26ms/step - loss: 0.2315 - accuracy: 0.9640 - val_loss: 0.3683 - val_accuracy: 0.9343\n",
            "Epoch 206/500\n",
            "2/2 [==============================] - 0s 26ms/step - loss: 0.2301 - accuracy: 0.9630 - val_loss: 0.3669 - val_accuracy: 0.9343\n",
            "Epoch 207/500\n",
            "2/2 [==============================] - 0s 23ms/step - loss: 0.2287 - accuracy: 0.9650 - val_loss: 0.3656 - val_accuracy: 0.9343\n",
            "Epoch 208/500\n",
            "2/2 [==============================] - 0s 24ms/step - loss: 0.2284 - accuracy: 0.9650 - val_loss: 0.3625 - val_accuracy: 0.9343\n",
            "Epoch 209/500\n",
            "2/2 [==============================] - 0s 25ms/step - loss: 0.2264 - accuracy: 0.9630 - val_loss: 0.3631 - val_accuracy: 0.9343\n",
            "Epoch 210/500\n",
            "2/2 [==============================] - 0s 24ms/step - loss: 0.2249 - accuracy: 0.9650 - val_loss: 0.3619 - val_accuracy: 0.9343\n",
            "Epoch 211/500\n",
            "2/2 [==============================] - 0s 28ms/step - loss: 0.2236 - accuracy: 0.9630 - val_loss: 0.3617 - val_accuracy: 0.9343\n",
            "Epoch 212/500\n",
            "2/2 [==============================] - 0s 27ms/step - loss: 0.2228 - accuracy: 0.9640 - val_loss: 0.3622 - val_accuracy: 0.9343\n",
            "Epoch 213/500\n",
            "2/2 [==============================] - 0s 24ms/step - loss: 0.2212 - accuracy: 0.9660 - val_loss: 0.3598 - val_accuracy: 0.9343\n",
            "Epoch 214/500\n",
            "2/2 [==============================] - 0s 26ms/step - loss: 0.2200 - accuracy: 0.9670 - val_loss: 0.3591 - val_accuracy: 0.9343\n",
            "Epoch 215/500\n",
            "2/2 [==============================] - 0s 23ms/step - loss: 0.2189 - accuracy: 0.9660 - val_loss: 0.3577 - val_accuracy: 0.9343\n",
            "Epoch 216/500\n",
            "2/2 [==============================] - 0s 25ms/step - loss: 0.2177 - accuracy: 0.9670 - val_loss: 0.3580 - val_accuracy: 0.9343\n",
            "Epoch 217/500\n",
            "2/2 [==============================] - 0s 24ms/step - loss: 0.2165 - accuracy: 0.9670 - val_loss: 0.3566 - val_accuracy: 0.9343\n",
            "Epoch 218/500\n",
            "2/2 [==============================] - 0s 23ms/step - loss: 0.2157 - accuracy: 0.9670 - val_loss: 0.3575 - val_accuracy: 0.9343\n",
            "Epoch 219/500\n",
            "2/2 [==============================] - 0s 24ms/step - loss: 0.2141 - accuracy: 0.9690 - val_loss: 0.3562 - val_accuracy: 0.9343\n",
            "Epoch 220/500\n",
            "2/2 [==============================] - 0s 24ms/step - loss: 0.2141 - accuracy: 0.9650 - val_loss: 0.3570 - val_accuracy: 0.9343\n",
            "Epoch 221/500\n",
            "2/2 [==============================] - 0s 26ms/step - loss: 0.2122 - accuracy: 0.9700 - val_loss: 0.3541 - val_accuracy: 0.9343\n",
            "Epoch 222/500\n",
            "2/2 [==============================] - 0s 27ms/step - loss: 0.2109 - accuracy: 0.9700 - val_loss: 0.3532 - val_accuracy: 0.9343\n",
            "Epoch 223/500\n",
            "2/2 [==============================] - 0s 24ms/step - loss: 0.2100 - accuracy: 0.9720 - val_loss: 0.3524 - val_accuracy: 0.9394\n",
            "Epoch 224/500\n",
            "2/2 [==============================] - 0s 27ms/step - loss: 0.2089 - accuracy: 0.9690 - val_loss: 0.3522 - val_accuracy: 0.9394\n",
            "Epoch 225/500\n",
            "2/2 [==============================] - 0s 25ms/step - loss: 0.2080 - accuracy: 0.9700 - val_loss: 0.3511 - val_accuracy: 0.9394\n",
            "Epoch 226/500\n",
            "2/2 [==============================] - 0s 25ms/step - loss: 0.2078 - accuracy: 0.9690 - val_loss: 0.3532 - val_accuracy: 0.9394\n",
            "Epoch 227/500\n",
            "2/2 [==============================] - 0s 25ms/step - loss: 0.2058 - accuracy: 0.9710 - val_loss: 0.3511 - val_accuracy: 0.9394\n",
            "Epoch 228/500\n",
            "2/2 [==============================] - 0s 27ms/step - loss: 0.2049 - accuracy: 0.9710 - val_loss: 0.3517 - val_accuracy: 0.9394\n",
            "Epoch 229/500\n",
            "2/2 [==============================] - 0s 46ms/step - loss: 0.2038 - accuracy: 0.9720 - val_loss: 0.3510 - val_accuracy: 0.9394\n",
            "Epoch 230/500\n",
            "2/2 [==============================] - 0s 28ms/step - loss: 0.2033 - accuracy: 0.9710 - val_loss: 0.3483 - val_accuracy: 0.9394\n",
            "Epoch 231/500\n",
            "2/2 [==============================] - 0s 25ms/step - loss: 0.2018 - accuracy: 0.9730 - val_loss: 0.3490 - val_accuracy: 0.9394\n",
            "Epoch 232/500\n",
            "2/2 [==============================] - 0s 27ms/step - loss: 0.2010 - accuracy: 0.9720 - val_loss: 0.3494 - val_accuracy: 0.9394\n",
            "Epoch 233/500\n",
            "2/2 [==============================] - 0s 25ms/step - loss: 0.1999 - accuracy: 0.9720 - val_loss: 0.3483 - val_accuracy: 0.9394\n",
            "Epoch 234/500\n",
            "2/2 [==============================] - 0s 26ms/step - loss: 0.1990 - accuracy: 0.9720 - val_loss: 0.3477 - val_accuracy: 0.9394\n",
            "Epoch 235/500\n",
            "2/2 [==============================] - 0s 27ms/step - loss: 0.1980 - accuracy: 0.9730 - val_loss: 0.3475 - val_accuracy: 0.9394\n",
            "Epoch 236/500\n",
            "2/2 [==============================] - 0s 30ms/step - loss: 0.1972 - accuracy: 0.9720 - val_loss: 0.3477 - val_accuracy: 0.9394\n",
            "Epoch 237/500\n",
            "2/2 [==============================] - 0s 25ms/step - loss: 0.1962 - accuracy: 0.9720 - val_loss: 0.3468 - val_accuracy: 0.9394\n",
            "Epoch 238/500\n",
            "2/2 [==============================] - 0s 26ms/step - loss: 0.1953 - accuracy: 0.9720 - val_loss: 0.3462 - val_accuracy: 0.9394\n",
            "Epoch 239/500\n",
            "2/2 [==============================] - 0s 25ms/step - loss: 0.1945 - accuracy: 0.9730 - val_loss: 0.3462 - val_accuracy: 0.9394\n",
            "Epoch 240/500\n",
            "2/2 [==============================] - 0s 25ms/step - loss: 0.1936 - accuracy: 0.9730 - val_loss: 0.3457 - val_accuracy: 0.9394\n",
            "Epoch 241/500\n",
            "2/2 [==============================] - 0s 23ms/step - loss: 0.1928 - accuracy: 0.9730 - val_loss: 0.3449 - val_accuracy: 0.9394\n",
            "Epoch 242/500\n",
            "2/2 [==============================] - 0s 25ms/step - loss: 0.1919 - accuracy: 0.9750 - val_loss: 0.3446 - val_accuracy: 0.9394\n",
            "Epoch 243/500\n",
            "2/2 [==============================] - 0s 27ms/step - loss: 0.1912 - accuracy: 0.9740 - val_loss: 0.3455 - val_accuracy: 0.9394\n",
            "Epoch 244/500\n",
            "2/2 [==============================] - 0s 27ms/step - loss: 0.1904 - accuracy: 0.9760 - val_loss: 0.3451 - val_accuracy: 0.9394\n",
            "Epoch 245/500\n",
            "2/2 [==============================] - 0s 24ms/step - loss: 0.1900 - accuracy: 0.9740 - val_loss: 0.3453 - val_accuracy: 0.9394\n",
            "Epoch 246/500\n",
            "2/2 [==============================] - 0s 26ms/step - loss: 0.1888 - accuracy: 0.9750 - val_loss: 0.3427 - val_accuracy: 0.9394\n",
            "Epoch 247/500\n",
            "2/2 [==============================] - 0s 26ms/step - loss: 0.1879 - accuracy: 0.9760 - val_loss: 0.3439 - val_accuracy: 0.9394\n",
            "Epoch 248/500\n",
            "2/2 [==============================] - 0s 27ms/step - loss: 0.1877 - accuracy: 0.9750 - val_loss: 0.3417 - val_accuracy: 0.9394\n",
            "Epoch 249/500\n",
            "2/2 [==============================] - 0s 27ms/step - loss: 0.1863 - accuracy: 0.9770 - val_loss: 0.3433 - val_accuracy: 0.9394\n",
            "Epoch 250/500\n",
            "2/2 [==============================] - 0s 26ms/step - loss: 0.1855 - accuracy: 0.9760 - val_loss: 0.3434 - val_accuracy: 0.9394\n",
            "Epoch 251/500\n",
            "2/2 [==============================] - 0s 26ms/step - loss: 0.1847 - accuracy: 0.9760 - val_loss: 0.3429 - val_accuracy: 0.9394\n",
            "Epoch 252/500\n",
            "2/2 [==============================] - 0s 24ms/step - loss: 0.1839 - accuracy: 0.9760 - val_loss: 0.3421 - val_accuracy: 0.9394\n",
            "Epoch 253/500\n",
            "2/2 [==============================] - 0s 25ms/step - loss: 0.1831 - accuracy: 0.9760 - val_loss: 0.3415 - val_accuracy: 0.9394\n",
            "Epoch 254/500\n",
            "2/2 [==============================] - 0s 29ms/step - loss: 0.1825 - accuracy: 0.9780 - val_loss: 0.3408 - val_accuracy: 0.9394\n",
            "Epoch 255/500\n",
            "2/2 [==============================] - 0s 24ms/step - loss: 0.1824 - accuracy: 0.9790 - val_loss: 0.3396 - val_accuracy: 0.9394\n",
            "Epoch 256/500\n",
            "2/2 [==============================] - 0s 25ms/step - loss: 0.1811 - accuracy: 0.9780 - val_loss: 0.3404 - val_accuracy: 0.9394\n",
            "Epoch 257/500\n",
            "2/2 [==============================] - 0s 25ms/step - loss: 0.1803 - accuracy: 0.9810 - val_loss: 0.3400 - val_accuracy: 0.9394\n",
            "Epoch 258/500\n",
            "2/2 [==============================] - 0s 25ms/step - loss: 0.1797 - accuracy: 0.9810 - val_loss: 0.3420 - val_accuracy: 0.9394\n",
            "Epoch 259/500\n",
            "2/2 [==============================] - 0s 28ms/step - loss: 0.1788 - accuracy: 0.9810 - val_loss: 0.3409 - val_accuracy: 0.9394\n",
            "Epoch 260/500\n",
            "2/2 [==============================] - 0s 26ms/step - loss: 0.1781 - accuracy: 0.9810 - val_loss: 0.3404 - val_accuracy: 0.9394\n",
            "Epoch 261/500\n",
            "2/2 [==============================] - 0s 25ms/step - loss: 0.1773 - accuracy: 0.9840 - val_loss: 0.3404 - val_accuracy: 0.9394\n"
          ]
        },
        {
          "output_type": "display_data",
          "data": {
            "image/png": "[encoded data removed]",
            "text/plain": [
              "<Figure size 432x288 with 1 Axes>"
            ]
          },
          "metadata": {
            "needs_background": "light"
          }
        },
        {
          "output_type": "display_data",
          "data": {
            "image/png": "[encoded data removed]",
            "text/plain": [
              "<Figure size 432x288 with 1 Axes>"
            ]
          },
          "metadata": {
            "needs_background": "light"
          }
        }
      ]
    },
    {
      "cell_type": "code",
      "metadata": {
        "id": "emouapiy8Mpo"
      },
      "source": [
        "y_pred_test = model_1.predict(X_test)\n",
        "from sklearn.metrics import accuracy_score\n",
        "#print(accuracy_score(y_test, y_pred_test)) #rmse value for training"
      ],
      "execution_count": 22,
      "outputs": []
    },
    {
      "cell_type": "code",
      "metadata": {
        "id": "VfAtXOgEBEna"
      },
      "source": [
        "#ValueError: Classification metrics can't handle a mix of binary and continuous targets"
      ],
      "execution_count": 23,
      "outputs": []
    },
    {
      "cell_type": "code",
      "metadata": {
        "colab": {
          "base_uri": "https://localhost:8080/"
        },
        "id": "hmzcGOVtBAC_",
        "outputId": "c5d4fbbe-ff3c-4f6b-c4af-79a0955597bb"
      },
      "source": [
        "type(y_pred_test)"
      ],
      "execution_count": 24,
      "outputs": [
        {
          "output_type": "execute_result",
          "data": {
            "text/plain": [
              "numpy.ndarray"
            ]
          },
          "metadata": {},
          "execution_count": 24
        }
      ]
    },
    {
      "cell_type": "code",
      "metadata": {
        "id": "0molDnA3BIB6"
      },
      "source": [
        "y_pred_testt = np.where(y_pred_test > 0.5, 1, 0)"
      ],
      "execution_count": 25,
      "outputs": []
    },
    {
      "cell_type": "code",
      "metadata": {
        "colab": {
          "base_uri": "https://localhost:8080/"
        },
        "id": "U0Z_qBRIJ-6O",
        "outputId": "5fe77896-c474-4239-d12f-7490f594c44c"
      },
      "source": [
        "len(y_pred_testt)"
      ],
      "execution_count": 26,
      "outputs": [
        {
          "output_type": "execute_result",
          "data": {
            "text/plain": [
              "197"
            ]
          },
          "metadata": {},
          "execution_count": 26
        }
      ]
    },
    {
      "cell_type": "code",
      "metadata": {
        "colab": {
          "base_uri": "https://localhost:8080/"
        },
        "id": "vOd-1-HVJ_5E",
        "outputId": "bd3b0be7-3dcb-4577-8988-3bffb31d14cb"
      },
      "source": [
        "np.unique(y_pred_testt)"
      ],
      "execution_count": 27,
      "outputs": [
        {
          "output_type": "execute_result",
          "data": {
            "text/plain": [
              "array([0, 1])"
            ]
          },
          "metadata": {},
          "execution_count": 27
        }
      ]
    },
    {
      "cell_type": "code",
      "metadata": {
        "colab": {
          "base_uri": "https://localhost:8080/"
        },
        "id": "Q2qinICdKFxF",
        "outputId": "ed473e6c-37d2-422e-c8f0-b04b95dcd98e"
      },
      "source": [
        "print(accuracy_score(y_test, y_pred_testt)) #rmse value for training"
      ],
      "execution_count": 28,
      "outputs": [
        {
          "output_type": "stream",
          "name": "stdout",
          "text": [
            "0.9644670050761421\n"
          ]
        }
      ]
    },
    {
      "cell_type": "code",
      "metadata": {
        "id": "gEV2I8hoKSMd"
      },
      "source": [
        ""
      ],
      "execution_count": null,
      "outputs": []
    }
  ]
}