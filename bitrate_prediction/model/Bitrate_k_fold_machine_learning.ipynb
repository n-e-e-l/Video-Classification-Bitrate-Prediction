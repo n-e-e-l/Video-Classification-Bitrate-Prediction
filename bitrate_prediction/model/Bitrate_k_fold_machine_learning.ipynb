{
  "nbformat": 4,
  "nbformat_minor": 0,
  "metadata": {
    "colab": {
      "name": "Bitrate-k-fold-machine-learning",
      "provenance": [],
      "collapsed_sections": [],
      "machine_shape": "hm"
    },
    "kernelspec": {
      "display_name": "Python 3",
      "name": "python3"
    },
    "language_info": {
      "name": "python"
    }
  },
  "cells": [
    {
      "cell_type": "code",
      "metadata": {
        "colab": {
          "base_uri": "https://localhost:8080/"
        },
        "id": "bOv-BdHWqNw-",
        "outputId": "df5e16dd-d906-45a2-b048-41adac0633ca"
      },
      "source": [
        "from google.colab import drive\n",
        "drive.mount('/content/drive')"
      ],
      "execution_count": 1,
      "outputs": [
        {
          "output_type": "stream",
          "name": "stdout",
          "text": [
            "Mounted at /content/drive\n"
          ]
        }
      ]
    },
    {
      "cell_type": "code",
      "metadata": {
        "id": "aPwuY1c0DBQ5"
      },
      "source": [
        "import pandas as pd\n",
        "df_train = pd.read_csv(r\"drive/My Drive/bitrate_model_final/bitrate_training.csv\")\n",
        "df_test = pd.read_csv(r\"drive/My Drive/bitrate_model_final/bitrate_testing.csv\")\n",
        "df_validation = pd.read_csv(r\"drive/My Drive/bitrate_model_final/bitrate_validation.csv\")"
      ],
      "execution_count": 2,
      "outputs": []
    },
    {
      "cell_type": "code",
      "metadata": {
        "id": "M69RArjnKkpf"
      },
      "source": [
        "#pd.set_option('display.max_rows', 1000)\n",
        "#df_train.isna().sum()"
      ],
      "execution_count": 3,
      "outputs": []
    },
    {
      "cell_type": "code",
      "metadata": {
        "id": "a6svRCvCDZ5v"
      },
      "source": [
        "#df_validation\n",
        "df_train = df_train.iloc[: , 1:]\n",
        "df_test = df_test.iloc[: , 1:]\n",
        "df_validation = df_validation.iloc[: , 1:]"
      ],
      "execution_count": 4,
      "outputs": []
    },
    {
      "cell_type": "code",
      "metadata": {
        "id": "dZAnVAMP4y7m"
      },
      "source": [
        "df_train[\"text\"] = df_train[\"text\"].str.lower()\n",
        "df_test[\"text\"] = df_test[\"text\"].str.lower()\n",
        "df_validation[\"text\"] = df_validation[\"text\"].str.lower()"
      ],
      "execution_count": 5,
      "outputs": []
    },
    {
      "cell_type": "code",
      "metadata": {
        "id": "-CASoeFI41X8"
      },
      "source": [
        "df_train[\"len_text\"] = df_train['text'].str.len() #df_test\n",
        "df_test[\"len_text\"] = df_test['text'].str.len()\n",
        "df_validation[\"len_text\"] = df_validation['text'].str.len()\n"
      ],
      "execution_count": 6,
      "outputs": []
    },
    {
      "cell_type": "code",
      "metadata": {
        "colab": {
          "base_uri": "https://localhost:8080/"
        },
        "id": "B3uIup552N8l",
        "outputId": "87ac1e81-c677-45a7-dd84-3f47d430f164"
      },
      "source": [
        "df_train.columns"
      ],
      "execution_count": 7,
      "outputs": [
        {
          "output_type": "execute_result",
          "data": {
            "text/plain": [
              "Index(['filename', 'size-bytes', 'height', 'width', 'framespersecond',\n",
              "       'duration', 'i_frame', 'b_frame', 'p_frame', 'text', 'Bitrate',\n",
              "       'bit_rate_mode', 'channel_layout', 'channel_positions', 'channel_s',\n",
              "       'frame_count', 'proportion_of_this_stream', 'stream_size',\n",
              "       'other_bit_rate_mode', 'len_text'],\n",
              "      dtype='object')"
            ]
          },
          "metadata": {},
          "execution_count": 7
        }
      ]
    },
    {
      "cell_type": "code",
      "metadata": {
        "colab": {
          "base_uri": "https://localhost:8080/"
        },
        "id": "TICTjh9q2dbt",
        "outputId": "6ada9d8e-8f84-405d-9ef7-160567779c51"
      },
      "source": [
        "df_train[\"other_bit_rate_mode\"].value_counts()"
      ],
      "execution_count": 8,
      "outputs": [
        {
          "output_type": "execute_result",
          "data": {
            "text/plain": [
              "Constant    595\n",
              "Variable    393\n",
              "Name: other_bit_rate_mode, dtype: int64"
            ]
          },
          "metadata": {},
          "execution_count": 8
        }
      ]
    },
    {
      "cell_type": "code",
      "metadata": {
        "colab": {
          "base_uri": "https://localhost:8080/"
        },
        "id": "Nj2kL-vZ2jqt",
        "outputId": "f0bfdb70-7e85-4451-b06b-c8ea8302f1ec"
      },
      "source": [
        "df_train[\"bit_rate_mode\"].value_counts()"
      ],
      "execution_count": 9,
      "outputs": [
        {
          "output_type": "execute_result",
          "data": {
            "text/plain": [
              "CBR    595\n",
              "VBR    393\n",
              "Name: bit_rate_mode, dtype: int64"
            ]
          },
          "metadata": {},
          "execution_count": 9
        }
      ]
    },
    {
      "cell_type": "code",
      "metadata": {
        "id": "kDsAnuN441as"
      },
      "source": [
        "df_train.drop(columns=['filename', 'text','bit_rate_mode'], axis=1, inplace=True)\n",
        "df_test.drop(columns=['filename', 'text','bit_rate_mode'], axis=1, inplace=True)\n",
        "df_validation.drop(columns=['filename', 'text','bit_rate_mode'], axis=1, inplace=True)\n"
      ],
      "execution_count": 10,
      "outputs": []
    },
    {
      "cell_type": "code",
      "metadata": {
        "id": "ffz-cFz3453j"
      },
      "source": [
        "#df_train.isna().sum()\n",
        "df_train = df_train.reset_index()\n",
        "df_test = df_test.reset_index()\n",
        "df_validation = df_validation.reset_index()"
      ],
      "execution_count": 11,
      "outputs": []
    },
    {
      "cell_type": "code",
      "metadata": {
        "id": "KtGdGMPa456r"
      },
      "source": [
        "#df_train[\"label\"].replace({\"CBR\": 1, \"VBR\": 0}, inplace=True)\n",
        "encode_train = pd.get_dummies(df_train, columns = ['channel_layout','channel_positions','other_bit_rate_mode'])\n",
        "encode_test = pd.get_dummies(df_test, columns = ['channel_layout','channel_positions','other_bit_rate_mode'])\n",
        "encode_val = pd.get_dummies(df_validation, columns = ['channel_layout','channel_positions','other_bit_rate_mode'])\n"
      ],
      "execution_count": 12,
      "outputs": []
    },
    {
      "cell_type": "code",
      "metadata": {
        "id": "sSUP3iXE46hJ"
      },
      "source": [
        "#channel_layout_C L R Ls Rs LFE  channel_positions_Front:L C R, Side: L R, LFE\n",
        "\n",
        "encode_train.drop(columns=['channel_layout_C L R Ls Rs LFE', 'channel_positions_Front: L C R, Side: L R, LFE'], axis=1, inplace=True)\n",
        "#encode_test.drop(columns=['channel_layout_C L R Ls Rs LFE', 'channel_positions_Front: L C R, Side: L R, LFE'], axis=1, inplace=True)\n",
        "encode_val.drop(columns=['channel_layout_C L R Ls Rs LFE', 'channel_positions_Front: L C R, Side: L R, LFE'], axis=1, inplace=True)\n"
      ],
      "execution_count": 13,
      "outputs": []
    },
    {
      "cell_type": "code",
      "metadata": {
        "id": "ue4cuDDC3lNo"
      },
      "source": [
        "df = pd.concat([encode_train, encode_test,encode_val])"
      ],
      "execution_count": 14,
      "outputs": []
    },
    {
      "cell_type": "code",
      "metadata": {
        "colab": {
          "base_uri": "https://localhost:8080/",
          "height": 461
        },
        "id": "8IV17Tdc5D6k",
        "outputId": "7cd56d35-8769-4f61-c8b0-7261c973d6dc"
      },
      "source": [
        "df"
      ],
      "execution_count": 15,
      "outputs": [
        {
          "output_type": "execute_result",
          "data": {
            "text/html": [
              "<div>\n",
              "<style scoped>\n",
              "    .dataframe tbody tr th:only-of-type {\n",
              "        vertical-align: middle;\n",
              "    }\n",
              "\n",
              "    .dataframe tbody tr th {\n",
              "        vertical-align: top;\n",
              "    }\n",
              "\n",
              "    .dataframe thead th {\n",
              "        text-align: right;\n",
              "    }\n",
              "</style>\n",
              "<table border=\"1\" class=\"dataframe\">\n",
              "  <thead>\n",
              "    <tr style=\"text-align: right;\">\n",
              "      <th></th>\n",
              "      <th>index</th>\n",
              "      <th>size-bytes</th>\n",
              "      <th>height</th>\n",
              "      <th>width</th>\n",
              "      <th>framespersecond</th>\n",
              "      <th>duration</th>\n",
              "      <th>i_frame</th>\n",
              "      <th>b_frame</th>\n",
              "      <th>p_frame</th>\n",
              "      <th>Bitrate</th>\n",
              "      <th>channel_s</th>\n",
              "      <th>frame_count</th>\n",
              "      <th>proportion_of_this_stream</th>\n",
              "      <th>stream_size</th>\n",
              "      <th>len_text</th>\n",
              "      <th>channel_layout_C</th>\n",
              "      <th>channel_layout_L R</th>\n",
              "      <th>channel_positions_Front: C</th>\n",
              "      <th>channel_positions_Front: L R</th>\n",
              "      <th>other_bit_rate_mode_Constant</th>\n",
              "      <th>other_bit_rate_mode_Variable</th>\n",
              "    </tr>\n",
              "  </thead>\n",
              "  <tbody>\n",
              "    <tr>\n",
              "      <th>0</th>\n",
              "      <td>0</td>\n",
              "      <td>125469259.0</td>\n",
              "      <td>144.0</td>\n",
              "      <td>256.0</td>\n",
              "      <td>25</td>\n",
              "      <td>5202.640000</td>\n",
              "      <td>2255</td>\n",
              "      <td>64571</td>\n",
              "      <td>63240</td>\n",
              "      <td>192</td>\n",
              "      <td>2</td>\n",
              "      <td>224065</td>\n",
              "      <td>0.66347</td>\n",
              "      <td>83244466</td>\n",
              "      <td>6395</td>\n",
              "      <td>0</td>\n",
              "      <td>1</td>\n",
              "      <td>0</td>\n",
              "      <td>1</td>\n",
              "      <td>1</td>\n",
              "      <td>0</td>\n",
              "    </tr>\n",
              "    <tr>\n",
              "      <th>1</th>\n",
              "      <td>1</td>\n",
              "      <td>156812882.0</td>\n",
              "      <td>240.0</td>\n",
              "      <td>426.0</td>\n",
              "      <td>23</td>\n",
              "      <td>6375.608696</td>\n",
              "      <td>2536</td>\n",
              "      <td>70413</td>\n",
              "      <td>73690</td>\n",
              "      <td>205</td>\n",
              "      <td>2</td>\n",
              "      <td>263400</td>\n",
              "      <td>0.62404</td>\n",
              "      <td>97858176</td>\n",
              "      <td>12299</td>\n",
              "      <td>0</td>\n",
              "      <td>1</td>\n",
              "      <td>0</td>\n",
              "      <td>1</td>\n",
              "      <td>1</td>\n",
              "      <td>0</td>\n",
              "    </tr>\n",
              "    <tr>\n",
              "      <th>2</th>\n",
              "      <td>2</td>\n",
              "      <td>518875095.0</td>\n",
              "      <td>546.0</td>\n",
              "      <td>1280.0</td>\n",
              "      <td>24</td>\n",
              "      <td>4836.000000</td>\n",
              "      <td>2185</td>\n",
              "      <td>63281</td>\n",
              "      <td>50598</td>\n",
              "      <td>858</td>\n",
              "      <td>2</td>\n",
              "      <td>208270</td>\n",
              "      <td>0.14912</td>\n",
              "      <td>77376319</td>\n",
              "      <td>11292</td>\n",
              "      <td>0</td>\n",
              "      <td>1</td>\n",
              "      <td>0</td>\n",
              "      <td>1</td>\n",
              "      <td>0</td>\n",
              "      <td>1</td>\n",
              "    </tr>\n",
              "    <tr>\n",
              "      <th>3</th>\n",
              "      <td>3</td>\n",
              "      <td>520279708.0</td>\n",
              "      <td>546.0</td>\n",
              "      <td>1280.0</td>\n",
              "      <td>24</td>\n",
              "      <td>4836.000000</td>\n",
              "      <td>2185</td>\n",
              "      <td>63281</td>\n",
              "      <td>50598</td>\n",
              "      <td>860</td>\n",
              "      <td>2</td>\n",
              "      <td>208273</td>\n",
              "      <td>0.14872</td>\n",
              "      <td>77377433</td>\n",
              "      <td>11289</td>\n",
              "      <td>0</td>\n",
              "      <td>1</td>\n",
              "      <td>0</td>\n",
              "      <td>1</td>\n",
              "      <td>1</td>\n",
              "      <td>0</td>\n",
              "    </tr>\n",
              "    <tr>\n",
              "      <th>4</th>\n",
              "      <td>4</td>\n",
              "      <td>282485177.0</td>\n",
              "      <td>342.0</td>\n",
              "      <td>640.0</td>\n",
              "      <td>24</td>\n",
              "      <td>5006.916667</td>\n",
              "      <td>1864</td>\n",
              "      <td>79409</td>\n",
              "      <td>38893</td>\n",
              "      <td>451</td>\n",
              "      <td>2</td>\n",
              "      <td>215632</td>\n",
              "      <td>0.21270</td>\n",
              "      <td>60083583</td>\n",
              "      <td>11336</td>\n",
              "      <td>0</td>\n",
              "      <td>1</td>\n",
              "      <td>0</td>\n",
              "      <td>1</td>\n",
              "      <td>0</td>\n",
              "      <td>1</td>\n",
              "    </tr>\n",
              "    <tr>\n",
              "      <th>...</th>\n",
              "      <td>...</td>\n",
              "      <td>...</td>\n",
              "      <td>...</td>\n",
              "      <td>...</td>\n",
              "      <td>...</td>\n",
              "      <td>...</td>\n",
              "      <td>...</td>\n",
              "      <td>...</td>\n",
              "      <td>...</td>\n",
              "      <td>...</td>\n",
              "      <td>...</td>\n",
              "      <td>...</td>\n",
              "      <td>...</td>\n",
              "      <td>...</td>\n",
              "      <td>...</td>\n",
              "      <td>...</td>\n",
              "      <td>...</td>\n",
              "      <td>...</td>\n",
              "      <td>...</td>\n",
              "      <td>...</td>\n",
              "      <td>...</td>\n",
              "    </tr>\n",
              "    <tr>\n",
              "      <th>193</th>\n",
              "      <td>193</td>\n",
              "      <td>80518345.0</td>\n",
              "      <td>720.0</td>\n",
              "      <td>1280.0</td>\n",
              "      <td>23</td>\n",
              "      <td>618.130435</td>\n",
              "      <td>236</td>\n",
              "      <td>8242</td>\n",
              "      <td>5739</td>\n",
              "      <td>1086</td>\n",
              "      <td>2</td>\n",
              "      <td>25537</td>\n",
              "      <td>0.11783</td>\n",
              "      <td>9487487</td>\n",
              "      <td>980</td>\n",
              "      <td>0</td>\n",
              "      <td>1</td>\n",
              "      <td>0</td>\n",
              "      <td>1</td>\n",
              "      <td>0</td>\n",
              "      <td>1</td>\n",
              "    </tr>\n",
              "    <tr>\n",
              "      <th>194</th>\n",
              "      <td>194</td>\n",
              "      <td>243886613.0</td>\n",
              "      <td>1080.0</td>\n",
              "      <td>1920.0</td>\n",
              "      <td>23</td>\n",
              "      <td>636.956522</td>\n",
              "      <td>300</td>\n",
              "      <td>7364</td>\n",
              "      <td>6986</td>\n",
              "      <td>3192</td>\n",
              "      <td>2</td>\n",
              "      <td>26317</td>\n",
              "      <td>0.04009</td>\n",
              "      <td>9777272</td>\n",
              "      <td>697</td>\n",
              "      <td>0</td>\n",
              "      <td>1</td>\n",
              "      <td>0</td>\n",
              "      <td>1</td>\n",
              "      <td>1</td>\n",
              "      <td>0</td>\n",
              "    </tr>\n",
              "    <tr>\n",
              "      <th>195</th>\n",
              "      <td>195</td>\n",
              "      <td>62480217.0</td>\n",
              "      <td>720.0</td>\n",
              "      <td>1280.0</td>\n",
              "      <td>29</td>\n",
              "      <td>302.896552</td>\n",
              "      <td>110</td>\n",
              "      <td>3324</td>\n",
              "      <td>5350</td>\n",
              "      <td>1705</td>\n",
              "      <td>2</td>\n",
              "      <td>12623</td>\n",
              "      <td>0.07365</td>\n",
              "      <td>4601535</td>\n",
              "      <td>114</td>\n",
              "      <td>0</td>\n",
              "      <td>1</td>\n",
              "      <td>0</td>\n",
              "      <td>1</td>\n",
              "      <td>0</td>\n",
              "      <td>1</td>\n",
              "    </tr>\n",
              "    <tr>\n",
              "      <th>196</th>\n",
              "      <td>196</td>\n",
              "      <td>21342015.0</td>\n",
              "      <td>668.0</td>\n",
              "      <td>1280.0</td>\n",
              "      <td>23</td>\n",
              "      <td>134.391304</td>\n",
              "      <td>34</td>\n",
              "      <td>1915</td>\n",
              "      <td>1142</td>\n",
              "      <td>1324</td>\n",
              "      <td>2</td>\n",
              "      <td>5553</td>\n",
              "      <td>0.09485</td>\n",
              "      <td>2024311</td>\n",
              "      <td>359</td>\n",
              "      <td>0</td>\n",
              "      <td>1</td>\n",
              "      <td>0</td>\n",
              "      <td>1</td>\n",
              "      <td>0</td>\n",
              "      <td>1</td>\n",
              "    </tr>\n",
              "    <tr>\n",
              "      <th>197</th>\n",
              "      <td>197</td>\n",
              "      <td>118637149.0</td>\n",
              "      <td>720.0</td>\n",
              "      <td>1280.0</td>\n",
              "      <td>25</td>\n",
              "      <td>858.080000</td>\n",
              "      <td>262</td>\n",
              "      <td>3472</td>\n",
              "      <td>17718</td>\n",
              "      <td>1105</td>\n",
              "      <td>2</td>\n",
              "      <td>36957</td>\n",
              "      <td>0.11573</td>\n",
              "      <td>13730237</td>\n",
              "      <td>1315</td>\n",
              "      <td>0</td>\n",
              "      <td>1</td>\n",
              "      <td>0</td>\n",
              "      <td>1</td>\n",
              "      <td>1</td>\n",
              "      <td>0</td>\n",
              "    </tr>\n",
              "  </tbody>\n",
              "</table>\n",
              "<p>1383 rows × 21 columns</p>\n",
              "</div>"
            ],
            "text/plain": [
              "     index  ...  other_bit_rate_mode_Variable\n",
              "0        0  ...                             0\n",
              "1        1  ...                             0\n",
              "2        2  ...                             1\n",
              "3        3  ...                             0\n",
              "4        4  ...                             1\n",
              "..     ...  ...                           ...\n",
              "193    193  ...                             1\n",
              "194    194  ...                             0\n",
              "195    195  ...                             1\n",
              "196    196  ...                             1\n",
              "197    197  ...                             0\n",
              "\n",
              "[1383 rows x 21 columns]"
            ]
          },
          "metadata": {},
          "execution_count": 15
        }
      ]
    },
    {
      "cell_type": "code",
      "metadata": {
        "id": "jDiOBBnj3pNM"
      },
      "source": [
        "df = df.iloc[: , 1:]"
      ],
      "execution_count": 16,
      "outputs": []
    },
    {
      "cell_type": "code",
      "metadata": {
        "colab": {
          "base_uri": "https://localhost:8080/",
          "height": 461
        },
        "id": "7x-5399Y3uMV",
        "outputId": "7324d0db-9534-48d3-b504-e3dd4c2a6e6f"
      },
      "source": [
        "df"
      ],
      "execution_count": 17,
      "outputs": [
        {
          "output_type": "execute_result",
          "data": {
            "text/html": [
              "<div>\n",
              "<style scoped>\n",
              "    .dataframe tbody tr th:only-of-type {\n",
              "        vertical-align: middle;\n",
              "    }\n",
              "\n",
              "    .dataframe tbody tr th {\n",
              "        vertical-align: top;\n",
              "    }\n",
              "\n",
              "    .dataframe thead th {\n",
              "        text-align: right;\n",
              "    }\n",
              "</style>\n",
              "<table border=\"1\" class=\"dataframe\">\n",
              "  <thead>\n",
              "    <tr style=\"text-align: right;\">\n",
              "      <th></th>\n",
              "      <th>size-bytes</th>\n",
              "      <th>height</th>\n",
              "      <th>width</th>\n",
              "      <th>framespersecond</th>\n",
              "      <th>duration</th>\n",
              "      <th>i_frame</th>\n",
              "      <th>b_frame</th>\n",
              "      <th>p_frame</th>\n",
              "      <th>Bitrate</th>\n",
              "      <th>channel_s</th>\n",
              "      <th>frame_count</th>\n",
              "      <th>proportion_of_this_stream</th>\n",
              "      <th>stream_size</th>\n",
              "      <th>len_text</th>\n",
              "      <th>channel_layout_C</th>\n",
              "      <th>channel_layout_L R</th>\n",
              "      <th>channel_positions_Front: C</th>\n",
              "      <th>channel_positions_Front: L R</th>\n",
              "      <th>other_bit_rate_mode_Constant</th>\n",
              "      <th>other_bit_rate_mode_Variable</th>\n",
              "    </tr>\n",
              "  </thead>\n",
              "  <tbody>\n",
              "    <tr>\n",
              "      <th>0</th>\n",
              "      <td>125469259.0</td>\n",
              "      <td>144.0</td>\n",
              "      <td>256.0</td>\n",
              "      <td>25</td>\n",
              "      <td>5202.640000</td>\n",
              "      <td>2255</td>\n",
              "      <td>64571</td>\n",
              "      <td>63240</td>\n",
              "      <td>192</td>\n",
              "      <td>2</td>\n",
              "      <td>224065</td>\n",
              "      <td>0.66347</td>\n",
              "      <td>83244466</td>\n",
              "      <td>6395</td>\n",
              "      <td>0</td>\n",
              "      <td>1</td>\n",
              "      <td>0</td>\n",
              "      <td>1</td>\n",
              "      <td>1</td>\n",
              "      <td>0</td>\n",
              "    </tr>\n",
              "    <tr>\n",
              "      <th>1</th>\n",
              "      <td>156812882.0</td>\n",
              "      <td>240.0</td>\n",
              "      <td>426.0</td>\n",
              "      <td>23</td>\n",
              "      <td>6375.608696</td>\n",
              "      <td>2536</td>\n",
              "      <td>70413</td>\n",
              "      <td>73690</td>\n",
              "      <td>205</td>\n",
              "      <td>2</td>\n",
              "      <td>263400</td>\n",
              "      <td>0.62404</td>\n",
              "      <td>97858176</td>\n",
              "      <td>12299</td>\n",
              "      <td>0</td>\n",
              "      <td>1</td>\n",
              "      <td>0</td>\n",
              "      <td>1</td>\n",
              "      <td>1</td>\n",
              "      <td>0</td>\n",
              "    </tr>\n",
              "    <tr>\n",
              "      <th>2</th>\n",
              "      <td>518875095.0</td>\n",
              "      <td>546.0</td>\n",
              "      <td>1280.0</td>\n",
              "      <td>24</td>\n",
              "      <td>4836.000000</td>\n",
              "      <td>2185</td>\n",
              "      <td>63281</td>\n",
              "      <td>50598</td>\n",
              "      <td>858</td>\n",
              "      <td>2</td>\n",
              "      <td>208270</td>\n",
              "      <td>0.14912</td>\n",
              "      <td>77376319</td>\n",
              "      <td>11292</td>\n",
              "      <td>0</td>\n",
              "      <td>1</td>\n",
              "      <td>0</td>\n",
              "      <td>1</td>\n",
              "      <td>0</td>\n",
              "      <td>1</td>\n",
              "    </tr>\n",
              "    <tr>\n",
              "      <th>3</th>\n",
              "      <td>520279708.0</td>\n",
              "      <td>546.0</td>\n",
              "      <td>1280.0</td>\n",
              "      <td>24</td>\n",
              "      <td>4836.000000</td>\n",
              "      <td>2185</td>\n",
              "      <td>63281</td>\n",
              "      <td>50598</td>\n",
              "      <td>860</td>\n",
              "      <td>2</td>\n",
              "      <td>208273</td>\n",
              "      <td>0.14872</td>\n",
              "      <td>77377433</td>\n",
              "      <td>11289</td>\n",
              "      <td>0</td>\n",
              "      <td>1</td>\n",
              "      <td>0</td>\n",
              "      <td>1</td>\n",
              "      <td>1</td>\n",
              "      <td>0</td>\n",
              "    </tr>\n",
              "    <tr>\n",
              "      <th>4</th>\n",
              "      <td>282485177.0</td>\n",
              "      <td>342.0</td>\n",
              "      <td>640.0</td>\n",
              "      <td>24</td>\n",
              "      <td>5006.916667</td>\n",
              "      <td>1864</td>\n",
              "      <td>79409</td>\n",
              "      <td>38893</td>\n",
              "      <td>451</td>\n",
              "      <td>2</td>\n",
              "      <td>215632</td>\n",
              "      <td>0.21270</td>\n",
              "      <td>60083583</td>\n",
              "      <td>11336</td>\n",
              "      <td>0</td>\n",
              "      <td>1</td>\n",
              "      <td>0</td>\n",
              "      <td>1</td>\n",
              "      <td>0</td>\n",
              "      <td>1</td>\n",
              "    </tr>\n",
              "    <tr>\n",
              "      <th>...</th>\n",
              "      <td>...</td>\n",
              "      <td>...</td>\n",
              "      <td>...</td>\n",
              "      <td>...</td>\n",
              "      <td>...</td>\n",
              "      <td>...</td>\n",
              "      <td>...</td>\n",
              "      <td>...</td>\n",
              "      <td>...</td>\n",
              "      <td>...</td>\n",
              "      <td>...</td>\n",
              "      <td>...</td>\n",
              "      <td>...</td>\n",
              "      <td>...</td>\n",
              "      <td>...</td>\n",
              "      <td>...</td>\n",
              "      <td>...</td>\n",
              "      <td>...</td>\n",
              "      <td>...</td>\n",
              "      <td>...</td>\n",
              "    </tr>\n",
              "    <tr>\n",
              "      <th>193</th>\n",
              "      <td>80518345.0</td>\n",
              "      <td>720.0</td>\n",
              "      <td>1280.0</td>\n",
              "      <td>23</td>\n",
              "      <td>618.130435</td>\n",
              "      <td>236</td>\n",
              "      <td>8242</td>\n",
              "      <td>5739</td>\n",
              "      <td>1086</td>\n",
              "      <td>2</td>\n",
              "      <td>25537</td>\n",
              "      <td>0.11783</td>\n",
              "      <td>9487487</td>\n",
              "      <td>980</td>\n",
              "      <td>0</td>\n",
              "      <td>1</td>\n",
              "      <td>0</td>\n",
              "      <td>1</td>\n",
              "      <td>0</td>\n",
              "      <td>1</td>\n",
              "    </tr>\n",
              "    <tr>\n",
              "      <th>194</th>\n",
              "      <td>243886613.0</td>\n",
              "      <td>1080.0</td>\n",
              "      <td>1920.0</td>\n",
              "      <td>23</td>\n",
              "      <td>636.956522</td>\n",
              "      <td>300</td>\n",
              "      <td>7364</td>\n",
              "      <td>6986</td>\n",
              "      <td>3192</td>\n",
              "      <td>2</td>\n",
              "      <td>26317</td>\n",
              "      <td>0.04009</td>\n",
              "      <td>9777272</td>\n",
              "      <td>697</td>\n",
              "      <td>0</td>\n",
              "      <td>1</td>\n",
              "      <td>0</td>\n",
              "      <td>1</td>\n",
              "      <td>1</td>\n",
              "      <td>0</td>\n",
              "    </tr>\n",
              "    <tr>\n",
              "      <th>195</th>\n",
              "      <td>62480217.0</td>\n",
              "      <td>720.0</td>\n",
              "      <td>1280.0</td>\n",
              "      <td>29</td>\n",
              "      <td>302.896552</td>\n",
              "      <td>110</td>\n",
              "      <td>3324</td>\n",
              "      <td>5350</td>\n",
              "      <td>1705</td>\n",
              "      <td>2</td>\n",
              "      <td>12623</td>\n",
              "      <td>0.07365</td>\n",
              "      <td>4601535</td>\n",
              "      <td>114</td>\n",
              "      <td>0</td>\n",
              "      <td>1</td>\n",
              "      <td>0</td>\n",
              "      <td>1</td>\n",
              "      <td>0</td>\n",
              "      <td>1</td>\n",
              "    </tr>\n",
              "    <tr>\n",
              "      <th>196</th>\n",
              "      <td>21342015.0</td>\n",
              "      <td>668.0</td>\n",
              "      <td>1280.0</td>\n",
              "      <td>23</td>\n",
              "      <td>134.391304</td>\n",
              "      <td>34</td>\n",
              "      <td>1915</td>\n",
              "      <td>1142</td>\n",
              "      <td>1324</td>\n",
              "      <td>2</td>\n",
              "      <td>5553</td>\n",
              "      <td>0.09485</td>\n",
              "      <td>2024311</td>\n",
              "      <td>359</td>\n",
              "      <td>0</td>\n",
              "      <td>1</td>\n",
              "      <td>0</td>\n",
              "      <td>1</td>\n",
              "      <td>0</td>\n",
              "      <td>1</td>\n",
              "    </tr>\n",
              "    <tr>\n",
              "      <th>197</th>\n",
              "      <td>118637149.0</td>\n",
              "      <td>720.0</td>\n",
              "      <td>1280.0</td>\n",
              "      <td>25</td>\n",
              "      <td>858.080000</td>\n",
              "      <td>262</td>\n",
              "      <td>3472</td>\n",
              "      <td>17718</td>\n",
              "      <td>1105</td>\n",
              "      <td>2</td>\n",
              "      <td>36957</td>\n",
              "      <td>0.11573</td>\n",
              "      <td>13730237</td>\n",
              "      <td>1315</td>\n",
              "      <td>0</td>\n",
              "      <td>1</td>\n",
              "      <td>0</td>\n",
              "      <td>1</td>\n",
              "      <td>1</td>\n",
              "      <td>0</td>\n",
              "    </tr>\n",
              "  </tbody>\n",
              "</table>\n",
              "<p>1383 rows × 20 columns</p>\n",
              "</div>"
            ],
            "text/plain": [
              "      size-bytes  ...  other_bit_rate_mode_Variable\n",
              "0    125469259.0  ...                             0\n",
              "1    156812882.0  ...                             0\n",
              "2    518875095.0  ...                             1\n",
              "3    520279708.0  ...                             0\n",
              "4    282485177.0  ...                             1\n",
              "..           ...  ...                           ...\n",
              "193   80518345.0  ...                             1\n",
              "194  243886613.0  ...                             0\n",
              "195   62480217.0  ...                             1\n",
              "196   21342015.0  ...                             1\n",
              "197  118637149.0  ...                             0\n",
              "\n",
              "[1383 rows x 20 columns]"
            ]
          },
          "metadata": {},
          "execution_count": 17
        }
      ]
    },
    {
      "cell_type": "code",
      "metadata": {
        "id": "ZGsfQUhZ5Ecz"
      },
      "source": [
        "df.reset_index(inplace=True,drop=True)"
      ],
      "execution_count": 18,
      "outputs": []
    },
    {
      "cell_type": "code",
      "metadata": {
        "colab": {
          "base_uri": "https://localhost:8080/"
        },
        "id": "eIKfJBisW2Z_",
        "outputId": "585b56e9-9c98-4d92-a652-e0dd48d12efa"
      },
      "source": [
        "df.isna().sum()"
      ],
      "execution_count": 19,
      "outputs": [
        {
          "output_type": "execute_result",
          "data": {
            "text/plain": [
              "size-bytes                      0\n",
              "height                          0\n",
              "width                           0\n",
              "framespersecond                 0\n",
              "duration                        0\n",
              "i_frame                         0\n",
              "b_frame                         0\n",
              "p_frame                         0\n",
              "Bitrate                         0\n",
              "channel_s                       0\n",
              "frame_count                     0\n",
              "proportion_of_this_stream       0\n",
              "stream_size                     0\n",
              "len_text                        0\n",
              "channel_layout_C                0\n",
              "channel_layout_L R              0\n",
              "channel_positions_Front: C      0\n",
              "channel_positions_Front: L R    0\n",
              "other_bit_rate_mode_Constant    0\n",
              "other_bit_rate_mode_Variable    0\n",
              "dtype: int64"
            ]
          },
          "metadata": {},
          "execution_count": 19
        }
      ]
    },
    {
      "cell_type": "code",
      "metadata": {
        "id": "2XuoG362E6WD"
      },
      "source": [
        "y_train = df[\"Bitrate\"]\n",
        "y_train=y_train.astype('int')\n",
        "df.drop(\"Bitrate\", axis=1, inplace=True)\n",
        "\n",
        "X_train = df\n"
      ],
      "execution_count": 20,
      "outputs": []
    },
    {
      "cell_type": "code",
      "metadata": {
        "id": "ctfk7StAGHX_"
      },
      "source": [
        "#from sklearn.model_selection import train_test_split\n",
        "#x_train,x_test,y_train,y_test = train_test_split(X_train,y_train,test_size = 0.25)\n"
      ],
      "execution_count": 21,
      "outputs": []
    },
    {
      "cell_type": "code",
      "metadata": {
        "colab": {
          "base_uri": "https://localhost:8080/"
        },
        "id": "yKxitkY-ybxF",
        "outputId": "b2d6679e-e549-4171-80bd-98981eb46aaf"
      },
      "source": [
        "!pip install xgboost"
      ],
      "execution_count": 22,
      "outputs": [
        {
          "output_type": "stream",
          "name": "stdout",
          "text": [
            "Requirement already satisfied: xgboost in /usr/local/lib/python3.7/dist-packages (0.90)\n",
            "Requirement already satisfied: scipy in /usr/local/lib/python3.7/dist-packages (from xgboost) (1.4.1)\n",
            "Requirement already satisfied: numpy in /usr/local/lib/python3.7/dist-packages (from xgboost) (1.19.5)\n"
          ]
        }
      ]
    },
    {
      "cell_type": "code",
      "metadata": {
        "colab": {
          "base_uri": "https://localhost:8080/"
        },
        "id": "KrrcLw4myAgz",
        "outputId": "6ee146c4-babf-4cd3-f475-10a46ac957db"
      },
      "source": [
        "import xgboost as xgb\n",
        "from xgboost import XGBRegressor\n",
        "from sklearn.metrics import mean_squared_error\n",
        "from sklearn.model_selection import cross_val_score, cross_val_predict\n",
        "import numpy as np\n",
        "#xgbr = XGBRegressor(verbosity=0) \n",
        "xgbr = XGBRegressor(base_score=0.5, booster='gbtree', colsample_bylevel=1,\n",
        "       colsample_bynode=1, colsample_bytree=1, gamma=0,\n",
        "       importance_type='gain', learning_rate=0.1, max_delta_step=0,\n",
        "       max_depth=3, min_child_weight=1, missing=None, n_estimators=100,\n",
        "       n_jobs=1, nthread=None, objective='reg:linear', random_state=0,\n",
        "       reg_alpha=0, reg_lambda=1, scale_pos_weight=1, seed=None,\n",
        "       silent=None, subsample=1, verbosity=1)\n",
        "cv_r2_scores_xg = cross_val_score(xgbr, X_train, y_train, cv=10,scoring='neg_root_mean_squared_error')\n",
        "\n",
        "print(cv_r2_scores_xg)\n",
        "print(\"Mean 10-Fold RMSE: {}\".format(abs(np.mean(cv_r2_scores_xg))))\n"
      ],
      "execution_count": null,
      "outputs": [
        {
          "output_type": "stream",
          "name": "stdout",
          "text": [
            "[09:07:19] WARNING: /workspace/src/objective/regression_obj.cu:152: reg:linear is now deprecated in favor of reg:squarederror.\n",
            "[09:07:20] WARNING: /workspace/src/objective/regression_obj.cu:152: reg:linear is now deprecated in favor of reg:squarederror.\n",
            "[09:07:20] WARNING: /workspace/src/objective/regression_obj.cu:152: reg:linear is now deprecated in favor of reg:squarederror.\n",
            "[09:07:20] WARNING: /workspace/src/objective/regression_obj.cu:152: reg:linear is now deprecated in favor of reg:squarederror.\n",
            "[09:07:20] WARNING: /workspace/src/objective/regression_obj.cu:152: reg:linear is now deprecated in favor of reg:squarederror.\n",
            "[09:07:20] WARNING: /workspace/src/objective/regression_obj.cu:152: reg:linear is now deprecated in favor of reg:squarederror.\n",
            "[09:07:20] WARNING: /workspace/src/objective/regression_obj.cu:152: reg:linear is now deprecated in favor of reg:squarederror.\n",
            "[09:07:20] WARNING: /workspace/src/objective/regression_obj.cu:152: reg:linear is now deprecated in favor of reg:squarederror.\n",
            "[09:07:20] WARNING: /workspace/src/objective/regression_obj.cu:152: reg:linear is now deprecated in favor of reg:squarederror.\n",
            "[09:07:21] WARNING: /workspace/src/objective/regression_obj.cu:152: reg:linear is now deprecated in favor of reg:squarederror.\n",
            "[ -18.31271712  -25.42848583  -17.81060533  -20.22374326 -114.27399818\n",
            "  -25.15686882  -28.37442149  -21.91343569  -39.13972947  -53.7375943 ]\n",
            "Mean 10-Fold RMSE: 36.43715994989591\n"
          ]
        }
      ]
    },
    {
      "cell_type": "code",
      "metadata": {
        "colab": {
          "base_uri": "https://localhost:8080/"
        },
        "id": "yyl-E_bo1hDc",
        "outputId": "ac759185-4fe1-4462-f6f8-46ed5a645102"
      },
      "source": [
        "from sklearn.tree import DecisionTreeRegressor\n",
        "regressor = DecisionTreeRegressor(random_state = 0)\n",
        "#from sklearn.metrics import neg_root_mean_squared_error\n",
        "from sklearn.metrics import mean_squared_error\n",
        "from sklearn.model_selection import cross_val_score, cross_val_predict\n",
        "import numpy as np\n",
        "cv_r2_scores_rf = cross_val_score(regressor, X_train, y_train, cv=10,scoring='neg_root_mean_squared_error')\n",
        "\n",
        "print(cv_r2_scores_rf)\n",
        "print(\"Mean 10-Fold RMSE: {}\".format(abs(np.mean(cv_r2_scores_rf))))\n"
      ],
      "execution_count": null,
      "outputs": [
        {
          "output_type": "stream",
          "name": "stdout",
          "text": [
            "[-56.76513521 -27.63469303 -40.36853608 -20.96045276 -95.80452623\n",
            " -33.48902048 -44.07585688 -38.39733158 -40.68507542 -51.2616194 ]\n",
            "Mean 10-Fold RMSE: 44.9442247066505\n"
          ]
        }
      ]
    },
    {
      "cell_type": "code",
      "metadata": {
        "id": "Y4Mjy2ta7YD5",
        "colab": {
          "base_uri": "https://localhost:8080/"
        },
        "outputId": "56432f9d-cf89-471b-d70f-9757604f88ea"
      },
      "source": [
        "from sklearn.ensemble import RandomForestRegressor\n",
        "clfr=RandomForestRegressor(n_estimators=100)\n",
        "\n",
        "cv_r2_scores_rf1 = cross_val_score(clfr, X_train, y_train, cv=10,scoring='neg_root_mean_squared_error')\n",
        "\n",
        "print(cv_r2_scores_rf1)\n",
        "print(\"Mean 10-Fold RMSE : {}\".format(abs(np.mean(cv_r2_scores_rf1))))"
      ],
      "execution_count": null,
      "outputs": [
        {
          "output_type": "stream",
          "name": "stdout",
          "text": [
            "[ -17.99981445  -41.51818151  -15.0001895   -21.64301743 -132.54789714\n",
            "  -34.21184582  -42.18226586  -13.89412453  -39.96236127  -76.73251497]\n",
            "Mean 10-Fold RMSE : 43.569221246150136\n"
          ]
        }
      ]
    },
    {
      "cell_type": "code",
      "metadata": {
        "id": "B-zOXS31SFHz"
      },
      "source": [
        ""
      ],
      "execution_count": null,
      "outputs": []
    }
  ]
}